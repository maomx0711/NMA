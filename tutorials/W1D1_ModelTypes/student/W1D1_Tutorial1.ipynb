{
  "cells": [
    {
      "cell_type": "markdown",
      "metadata": {
        "id": "view-in-github",
        "colab_type": "text"
      },
      "source": [
        "<a href=\"https://colab.research.google.com/github/maomx0711/NMA/blob/main/tutorials/W1D1_ModelTypes/student/W1D1_Tutorial1.ipynb\" target=\"_parent\"><img src=\"https://colab.research.google.com/assets/colab-badge.svg\" alt=\"Open In Colab\"/></a>"
      ]
    },
    {
      "cell_type": "markdown",
      "metadata": {
        "execution": {},
        "id": "tNtKT042_aQe"
      },
      "source": [
        "# Tutorial 1: \"What\" models\n",
        "\n",
        "**Week 1, Day 1: Model Types**\n",
        "\n",
        "**By Neuromatch Academy**\n",
        "\n",
        "__Content creators:__ Matt Laporte, Byron Galbraith, Konrad Kording\n",
        "\n",
        "__Content reviewers:__ Dalin Guo, Aishwarya Balwani, Madineh Sarvestani, Maryam Vaziri-Pashkam, Michael Waskom, Ella Batty\n",
        "\n",
        "__Production editors:__ Gagana B, Spiros Chavlis\n",
        "\n",
        "<br>\n",
        "\n",
        "We would like to acknowledge [Steinmetz _et al._ (2019)](https://www.nature.com/articles/s41586-019-1787-x) for sharing their data, a subset of which is used here."
      ]
    },
    {
      "cell_type": "markdown",
      "metadata": {
        "execution": {},
        "id": "A_HHqDl5_aQf"
      },
      "source": [
        "___\n",
        "# Tutorial Objectives\n",
        "\n",
        "*Estimated timing of tutorial: 50 minutes*\n",
        "\n",
        "This is tutorial 1 of a 3-part series on different flavors of models used to understand neural data. In this tutorial we will explore 'What' models, used to describe the data. To understand what our data looks like, we will visualize it in different ways. Then we will compare it to simple mathematical models. Specifically, we will:\n",
        "\n",
        "- Load a dataset with spiking activity from hundreds of neurons and understand how it is organized\n",
        "- Make plots to visualize characteristics of the spiking activity across the population\n",
        "- Compute the distribution of \"inter-spike intervals\" (ISIs) for a single neuron\n",
        "- Consider several formal models of this distribution's shape and fit them to the data \"by hand\""
      ]
    },
    {
      "cell_type": "code",
      "execution_count": 10,
      "metadata": {
        "cellView": "form",
        "execution": {},
        "id": "NeVcXfuE_aQg",
        "outputId": "f86730b1-f3ed-44b7-e0b7-150a24778037",
        "colab": {
          "base_uri": "https://localhost:8080/",
          "height": 519
        }
      },
      "outputs": [
        {
          "output_type": "stream",
          "name": "stdout",
          "text": [
            "If you want to download the slides: https://osf.io/download/6dxwe/\n"
          ]
        },
        {
          "output_type": "execute_result",
          "data": {
            "text/plain": [
              "<IPython.lib.display.IFrame at 0x7b7c884c5910>"
            ],
            "text/html": [
              "\n",
              "        <iframe\n",
              "            width=\"854\"\n",
              "            height=\"480\"\n",
              "            src=\"https://mfr.ca-1.osf.io/render?url=https://osf.io/6dxwe/?direct%26mode=render%26action=download%26mode=render\"\n",
              "            frameborder=\"0\"\n",
              "            allowfullscreen\n",
              "            \n",
              "        ></iframe>\n",
              "        "
            ]
          },
          "metadata": {},
          "execution_count": 10
        }
      ],
      "source": [
        "\n",
        "# @title Tutorial slides\n",
        "# @markdown These are the slides for the videos in all tutorials today\n",
        "from IPython.display import IFrame\n",
        "link_id = \"6dxwe\"\n",
        "print(f\"If you want to download the slides: https://osf.io/download/{link_id}/\")\n",
        "IFrame(src=f\"https://mfr.ca-1.osf.io/render?url=https://osf.io/{link_id}/?direct%26mode=render%26action=download%26mode=render\", width=854, height=480)"
      ]
    },
    {
      "cell_type": "markdown",
      "metadata": {
        "execution": {},
        "id": "tosiizRU_aQh"
      },
      "source": [
        "---\n",
        "# Setup\n",
        "\n"
      ]
    },
    {
      "cell_type": "code",
      "execution_count": null,
      "metadata": {
        "cellView": "form",
        "execution": {},
        "id": "jV1oPT56_aQh"
      },
      "outputs": [],
      "source": [
        "# @title Install and import feedback gadget\n",
        "\n",
        "!pip3 install vibecheck datatops --quiet\n",
        "\n",
        "from vibecheck import DatatopsContentReviewContainer\n",
        "def content_review(notebook_section: str):\n",
        "    return DatatopsContentReviewContainer(\n",
        "        \"\",  # No text prompt\n",
        "        notebook_section,\n",
        "        {\n",
        "            \"url\": \"https://pmyvdlilci.execute-api.us-east-1.amazonaws.com/klab\",\n",
        "            \"name\": \"neuromatch_cn\",\n",
        "            \"user_key\": \"y1x3mpx5\",\n",
        "        },\n",
        "    ).render()\n",
        "\n",
        "\n",
        "feedback_prefix = \"W1D1_T1\""
      ]
    },
    {
      "cell_type": "markdown",
      "metadata": {
        "execution": {},
        "id": "4-9Va6o8_aQi"
      },
      "source": [
        "Python requires you to explicitly \"import\" libraries before their functions are available to use. We will always specify our imports at the beginning of each notebook or script."
      ]
    },
    {
      "cell_type": "code",
      "execution_count": 11,
      "metadata": {
        "execution": {},
        "pycharm": {
          "name": "#%%\n"
        },
        "id": "IyM2sdap_aQi"
      },
      "outputs": [],
      "source": [
        "import numpy as np\n",
        "import matplotlib.pyplot as plt"
      ]
    },
    {
      "cell_type": "markdown",
      "metadata": {
        "execution": {},
        "id": "20ix3fxL_aQi"
      },
      "source": [
        "Tutorial notebooks typically begin with several set-up steps that are hidden from view by default.\n",
        "\n",
        "**Important:** Even though the code is hidden, you still need to run it so that the rest of the notebook can work properly. Step through each cell, either by pressing the play button in the upper-left-hand corner or with a keyboard shortcut (`Cmd-Return` on a Mac, `Ctrl-Enter` otherwise). A number will appear inside the brackets (e.g. `[3]`) to tell you that the cell was executed and what order that happened in.\n",
        "\n",
        "If you are curious to see what is going on inside each cell, you can double click to expand. Once expanded, double-click the white space to the right of the editor to collapse again."
      ]
    },
    {
      "cell_type": "code",
      "execution_count": 12,
      "metadata": {
        "execution": {},
        "pycharm": {
          "name": "#%%\n"
        },
        "id": "qxlVDohY_aQj"
      },
      "outputs": [],
      "source": [
        "# @title Figure Settings\n",
        "import logging\n",
        "logging.getLogger('matplotlib.font_manager').disabled = True\n",
        "\n",
        "import ipywidgets as widgets  # interactive display\n",
        "%matplotlib inline\n",
        "%config InlineBackend.figure_format = 'retina'\n",
        "plt.style.use(\"https://raw.githubusercontent.com/NeuromatchAcademy/course-content/main/nma.mplstyle\")"
      ]
    },
    {
      "cell_type": "code",
      "execution_count": 13,
      "metadata": {
        "execution": {},
        "id": "g5ZpfPz__aQj"
      },
      "outputs": [],
      "source": [
        "# @title Plotting functions\n",
        "\n",
        "def plot_isis(single_neuron_isis):\n",
        "  plt.hist(single_neuron_isis, bins=50, histtype=\"stepfilled\")\n",
        "  plt.axvline(single_neuron_isis.mean(), color=\"orange\", label=\"Mean ISI\")\n",
        "  plt.xlabel(\"ISI duration (s)\")\n",
        "  plt.ylabel(\"Number of spikes\")\n",
        "  plt.legend()"
      ]
    },
    {
      "cell_type": "code",
      "execution_count": 14,
      "metadata": {
        "execution": {},
        "pycharm": {
          "name": "#%%\n"
        },
        "id": "XWHVLLoB_aQj"
      },
      "outputs": [],
      "source": [
        "#@title Data retrieval\n",
        "#@markdown This cell downloads the example dataset that we will use in this tutorial.\n",
        "import io\n",
        "import requests\n",
        "r = requests.get('https://osf.io/sy5xt/download')\n",
        "if r.status_code != 200:\n",
        "  print('Failed to download data')\n",
        "else:\n",
        "  spike_times = np.load(io.BytesIO(r.content), allow_pickle=True)['spike_times']"
      ]
    },
    {
      "cell_type": "markdown",
      "metadata": {
        "execution": {},
        "id": "Q0Ooo_yt_aQj"
      },
      "source": [
        "---\n",
        "# \"What\" models"
      ]
    },
    {
      "cell_type": "code",
      "execution_count": null,
      "metadata": {
        "cellView": "form",
        "execution": {},
        "id": "gMj9ZBWy_aQk"
      },
      "outputs": [],
      "source": [
        "# @title Video 1: \"What\" Models\n",
        "from ipywidgets import widgets\n",
        "from IPython.display import YouTubeVideo\n",
        "from IPython.display import IFrame\n",
        "from IPython.display import display\n",
        "\n",
        "\n",
        "class PlayVideo(IFrame):\n",
        "  def __init__(self, id, source, page=1, width=400, height=300, **kwargs):\n",
        "    self.id = id\n",
        "    if source == 'Bilibili':\n",
        "      src = f'https://player.bilibili.com/player.html?bvid={id}&page={page}'\n",
        "    elif source == 'Osf':\n",
        "      src = f'https://mfr.ca-1.osf.io/render?url=https://osf.io/download/{id}/?direct%26mode=render'\n",
        "    super(PlayVideo, self).__init__(src, width, height, **kwargs)\n",
        "\n",
        "\n",
        "def display_videos(video_ids, W=400, H=300, fs=1):\n",
        "  tab_contents = []\n",
        "  for i, video_id in enumerate(video_ids):\n",
        "    out = widgets.Output()\n",
        "    with out:\n",
        "      if video_ids[i][0] == 'Youtube':\n",
        "        video = YouTubeVideo(id=video_ids[i][1], width=W,\n",
        "                             height=H, fs=fs, rel=0)\n",
        "        print(f'Video available at https://youtube.com/watch?v={video.id}')\n",
        "      else:\n",
        "        video = PlayVideo(id=video_ids[i][1], source=video_ids[i][0], width=W,\n",
        "                          height=H, fs=fs, autoplay=False)\n",
        "        if video_ids[i][0] == 'Bilibili':\n",
        "          print(f'Video available at https://www.bilibili.com/video/{video.id}')\n",
        "        elif video_ids[i][0] == 'Osf':\n",
        "          print(f'Video available at https://osf.io/{video.id}')\n",
        "      display(video)\n",
        "    tab_contents.append(out)\n",
        "  return tab_contents\n",
        "\n",
        "\n",
        "video_ids = [('Youtube', 'KgqR_jbjMQg'), ('Bilibili', 'BV1mz4y1X7ot')]\n",
        "tab_contents = display_videos(video_ids, W=854, H=480)\n",
        "tabs = widgets.Tab()\n",
        "tabs.children = tab_contents\n",
        "for i in range(len(tab_contents)):\n",
        "  tabs.set_title(i, video_ids[i][0])\n",
        "display(tabs)"
      ]
    },
    {
      "cell_type": "code",
      "execution_count": null,
      "metadata": {
        "cellView": "form",
        "execution": {},
        "id": "deaLWBrf_aQk"
      },
      "outputs": [],
      "source": [
        "# @title Submit your feedback\n",
        "content_review(f\"{feedback_prefix}_What_models_Video\")"
      ]
    },
    {
      "cell_type": "markdown",
      "metadata": {
        "execution": {},
        "id": "Ypa6gGl1_aQk"
      },
      "source": [
        "---\n",
        "\n",
        "# Section 1: Exploring the Steinmetz dataset\n",
        "\n",
        "In this tutorial we will explore the structure of a neuroscience dataset.\n",
        "\n",
        "We consider a subset of data from a study of [Steinmetz _et al._ (2019)](https://www.nature.com/articles/s41586-019-1787-x). In this study, Neuropixels probes were implanted in the brains of mice. Electrical potentials were measured by hundreds of electrodes along the length of each probe. Each electrode's measurements captured local variations in the electric field due to nearby spiking neurons. A spike sorting algorithm was used to infer spike times and cluster spikes according to common origin: a single cluster of sorted spikes is causally attributed to a single neuron.\n",
        "\n",
        "In particular, a single recording session of spike times and neuron assignments was loaded and assigned to `spike_times` in the preceding setup.\n",
        "\n",
        "Typically a dataset comes with some information about its structure. However, this information may be incomplete. You might also apply some transformations or \"pre-processing\" to create a working representation of the data of interest, which might go partly undocumented depending on the circumstances. In any case it is important to be able to use the available tools to investigate unfamiliar aspects of a data structure.\n",
        "\n",
        "Let's see what our data looks like..."
      ]
    },
    {
      "cell_type": "markdown",
      "metadata": {
        "execution": {},
        "id": "b66YhdcH_aQk"
      },
      "source": [
        "## Section 1.1: Warming up with `spike_times`"
      ]
    },
    {
      "cell_type": "markdown",
      "metadata": {
        "execution": {},
        "id": "YAOnhN7Z_aQk"
      },
      "source": [
        "What is the Python type of our variable?"
      ]
    },
    {
      "cell_type": "code",
      "execution_count": 15,
      "metadata": {
        "execution": {},
        "pycharm": {
          "name": "#%%\n"
        },
        "id": "LAhoiSQI_aQk",
        "outputId": "b322b62d-dd10-476a-a5a3-611fbea52a26",
        "colab": {
          "base_uri": "https://localhost:8080/"
        }
      },
      "outputs": [
        {
          "output_type": "execute_result",
          "data": {
            "text/plain": [
              "numpy.ndarray"
            ]
          },
          "metadata": {},
          "execution_count": 15
        }
      ],
      "source": [
        "type(spike_times)"
      ]
    },
    {
      "cell_type": "markdown",
      "metadata": {
        "execution": {},
        "id": "BSoZ1JiM_aQl"
      },
      "source": [
        "You should see `numpy.ndarray`, which means that it's a normal NumPy array.\n",
        "\n",
        "If you see an error message, it probably means that you did not execute the set-up cells at the top of the notebook. So go ahead and make sure to do that.\n",
        "\n",
        "Once everything is running properly, we can ask the next question about the dataset: what's its shape?"
      ]
    },
    {
      "cell_type": "code",
      "execution_count": 16,
      "metadata": {
        "execution": {},
        "pycharm": {
          "name": "#%%\n"
        },
        "id": "NzDSPx_f_aQl",
        "outputId": "272adcd5-2ecc-4805-8e52-5779b2e67a77",
        "colab": {
          "base_uri": "https://localhost:8080/"
        }
      },
      "outputs": [
        {
          "output_type": "execute_result",
          "data": {
            "text/plain": [
              "(734,)"
            ]
          },
          "metadata": {},
          "execution_count": 16
        }
      ],
      "source": [
        "spike_times.shape"
      ]
    },
    {
      "cell_type": "markdown",
      "metadata": {
        "execution": {},
        "id": "LsZqqX7u_aQl"
      },
      "source": [
        "There are 734 entries in one dimension, and no other dimensions. What is the Python type of the first entry, and what is *its* shape?"
      ]
    },
    {
      "cell_type": "code",
      "execution_count": 17,
      "metadata": {
        "execution": {},
        "pycharm": {
          "name": "#%%\n"
        },
        "id": "9FqGskB6_aQl",
        "outputId": "8aaa10e0-36d8-4a67-9546-5c4d3df3ce79",
        "colab": {
          "base_uri": "https://localhost:8080/"
        }
      },
      "outputs": [
        {
          "output_type": "stream",
          "name": "stdout",
          "text": [
            "<class 'numpy.ndarray'>\n",
            "(826,)\n"
          ]
        }
      ],
      "source": [
        "idx = 0\n",
        "print(\n",
        "  type(spike_times[idx]),\n",
        "  spike_times[idx].shape,\n",
        "  sep=\"\\n\",\n",
        ")"
      ]
    },
    {
      "cell_type": "markdown",
      "metadata": {
        "execution": {},
        "id": "2tLmm3nf_aQl"
      },
      "source": [
        "It's also a NumPy array with a 1D shape! Why didn't this show up as a second dimension in the shape of `spike_times`? That is, why not `spike_times.shape == (734, 826)`?\n",
        "\n",
        "To investigate, let's check another entry."
      ]
    },
    {
      "cell_type": "code",
      "execution_count": 18,
      "metadata": {
        "execution": {},
        "pycharm": {
          "name": "#%%\n"
        },
        "id": "zdr-icRB_aQl",
        "outputId": "e9e12ef8-dd84-45d6-9047-1c4ceb36ab48",
        "colab": {
          "base_uri": "https://localhost:8080/"
        }
      },
      "outputs": [
        {
          "output_type": "stream",
          "name": "stdout",
          "text": [
            "<class 'numpy.ndarray'>\n",
            "(9723,)\n"
          ]
        }
      ],
      "source": [
        "idx = 321\n",
        "print(\n",
        "  type(spike_times[idx]),\n",
        "  spike_times[idx].shape,\n",
        "  sep=\"\\n\",\n",
        ")"
      ]
    },
    {
      "cell_type": "markdown",
      "metadata": {
        "execution": {},
        "id": "EEXmtuEF_aQl"
      },
      "source": [
        "It's also a 1D NumPy array, but it has a different shape. Checking the NumPy types of the values in these arrays, and their first few elements, we see they are composed of floating point numbers (not another level of `np.ndarray`):"
      ]
    },
    {
      "cell_type": "code",
      "execution_count": 19,
      "metadata": {
        "execution": {},
        "pycharm": {
          "name": "#%%\n"
        },
        "id": "ZMKGaNEN_aQm",
        "outputId": "5b206d31-a203-4cb9-b540-1e1d219e626c",
        "colab": {
          "base_uri": "https://localhost:8080/"
        }
      },
      "outputs": [
        {
          "output_type": "stream",
          "name": "stdout",
          "text": [
            "Neuron 0:\n",
            "float32\n",
            "[ 0.8149   14.822467 24.9646   25.1436   38.8709  ]\n",
            "\n",
            "\n",
            "Neuron 321:\n",
            "float32\n",
            "[1.0698667 1.1536334 1.2403667 1.7072    1.799    ]\n",
            "\n",
            "\n"
          ]
        }
      ],
      "source": [
        "i_neurons = [0, 321]\n",
        "i_print = slice(0, 5)\n",
        "\n",
        "for i in i_neurons:\n",
        "  print(\n",
        "    \"Neuron {}:\".format(i),\n",
        "    spike_times[i].dtype,\n",
        "    spike_times[i][i_print],\n",
        "    \"\\n\",\n",
        "    sep=\"\\n\"\n",
        "  )"
      ]
    },
    {
      "cell_type": "markdown",
      "metadata": {
        "execution": {},
        "id": "tSppOjtO_aQm"
      },
      "source": [
        "Note that this time we've checked the NumPy `dtype` rather than the Python variable type. These two arrays contain floating point numbers (\"floats\") with 32 bits of precision.\n",
        "\n",
        "The basic picture is coming together:\n",
        "- `spike_times` is 1D, its entries are NumPy arrays, and its length is the number of neurons (734): by indexing it, we select a subset of neurons.\n",
        "- An array in `spike_times` is also 1D and corresponds to a single neuron; its entries are floating point numbers, and its length is the number of spikes attributed to that neuron. By indexing it, we select a subset of spike times for that neuron.\n",
        "\n",
        "Visually, you can think of the data structure as looking something like this:\n",
        "\n",
        "```\n",
        "| . . . . . |\n",
        "| . . . . . . . . |\n",
        "| . . . |\n",
        "| . . . . . . . |\n",
        "```\n",
        "\n",
        "Before moving on, we'll calculate and store the number of neurons in the dataset and the number of spikes per neuron:"
      ]
    },
    {
      "cell_type": "code",
      "execution_count": 20,
      "metadata": {
        "execution": {},
        "pycharm": {
          "name": "#%%\n"
        },
        "id": "e3Qu3Xhl_aQm",
        "outputId": "33c845d7-c6aa-44da-b344-bf6275f37378",
        "colab": {
          "base_uri": "https://localhost:8080/"
        }
      },
      "outputs": [
        {
          "output_type": "stream",
          "name": "stdout",
          "text": [
            "Number of neurons: 734\n",
            "Number of spikes for first five neurons: [826, 2818, 3953, 646, 1115]\n"
          ]
        }
      ],
      "source": [
        "n_neurons = len(spike_times)\n",
        "total_spikes_per_neuron = [len(spike_times_i) for spike_times_i in spike_times]\n",
        "\n",
        "print(f\"Number of neurons: {n_neurons}\")\n",
        "print(f\"Number of spikes for first five neurons: {total_spikes_per_neuron[:5]}\")"
      ]
    },
    {
      "cell_type": "code",
      "execution_count": 21,
      "metadata": {
        "cellView": "form",
        "execution": {},
        "id": "3k5xiIGp_aQm",
        "outputId": "d4f941bc-ad2b-49b6-bc61-21bd834f3589",
        "colab": {
          "base_uri": "https://localhost:8080/",
          "height": 581,
          "referenced_widgets": [
            "85f10d1ee45f4387ba89a88e61a25a63",
            "391e9f849b9b4bc3aa3a1b543149d5a0",
            "80303ad8eea345e2a0601ebebffc4eca",
            "41bf574addd64e9b8b275500412c417b",
            "555c77af5af440d4aca5968346ef46fe",
            "0e8872271ee448ecb35fbadd1bc1532b"
          ]
        }
      },
      "outputs": [
        {
          "output_type": "display_data",
          "data": {
            "text/plain": [
              "Tab(children=(Output(), Output()), _titles={'0': 'Youtube', '1': 'Bilibili'})"
            ],
            "application/vnd.jupyter.widget-view+json": {
              "version_major": 2,
              "version_minor": 0,
              "model_id": "85f10d1ee45f4387ba89a88e61a25a63"
            }
          },
          "metadata": {}
        }
      ],
      "source": [
        "# @title Video 2: Exploring the dataset\n",
        "from ipywidgets import widgets\n",
        "from IPython.display import YouTubeVideo\n",
        "from IPython.display import IFrame\n",
        "from IPython.display import display\n",
        "\n",
        "\n",
        "class PlayVideo(IFrame):\n",
        "  def __init__(self, id, source, page=1, width=400, height=300, **kwargs):\n",
        "    self.id = id\n",
        "    if source == 'Bilibili':\n",
        "      src = f'https://player.bilibili.com/player.html?bvid={id}&page={page}'\n",
        "    elif source == 'Osf':\n",
        "      src = f'https://mfr.ca-1.osf.io/render?url=https://osf.io/download/{id}/?direct%26mode=render'\n",
        "    super(PlayVideo, self).__init__(src, width, height, **kwargs)\n",
        "\n",
        "\n",
        "def display_videos(video_ids, W=400, H=300, fs=1):\n",
        "  tab_contents = []\n",
        "  for i, video_id in enumerate(video_ids):\n",
        "    out = widgets.Output()\n",
        "    with out:\n",
        "      if video_ids[i][0] == 'Youtube':\n",
        "        video = YouTubeVideo(id=video_ids[i][1], width=W,\n",
        "                             height=H, fs=fs, rel=0)\n",
        "        print(f'Video available at https://youtube.com/watch?v={video.id}')\n",
        "      else:\n",
        "        video = PlayVideo(id=video_ids[i][1], source=video_ids[i][0], width=W,\n",
        "                          height=H, fs=fs, autoplay=False)\n",
        "        if video_ids[i][0] == 'Bilibili':\n",
        "          print(f'Video available at https://www.bilibili.com/video/{video.id}')\n",
        "        elif video_ids[i][0] == 'Osf':\n",
        "          print(f'Video available at https://osf.io/{video.id}')\n",
        "      display(video)\n",
        "    tab_contents.append(out)\n",
        "  return tab_contents\n",
        "\n",
        "\n",
        "video_ids = [('Youtube', 'oHwYWUI_o1U'), ('Bilibili', 'BV1Hp4y1S7Au')]\n",
        "tab_contents = display_videos(video_ids, W=854, H=480)\n",
        "tabs = widgets.Tab()\n",
        "tabs.children = tab_contents\n",
        "for i in range(len(tab_contents)):\n",
        "  tabs.set_title(i, video_ids[i][0])\n",
        "display(tabs)"
      ]
    },
    {
      "cell_type": "code",
      "execution_count": null,
      "metadata": {
        "cellView": "form",
        "execution": {},
        "id": "HbUj8pv2_aQm"
      },
      "outputs": [],
      "source": [
        "# @title Submit your feedback\n",
        "content_review(f\"{feedback_prefix}_Exploring_the_dataset_Video\")"
      ]
    },
    {
      "cell_type": "markdown",
      "metadata": {
        "execution": {},
        "id": "-MLR8OTT_aQm"
      },
      "source": [
        "## Section 1.2: Getting warmer: counting and plotting total spike counts\n",
        "\n",
        "As we've seen, the number of spikes over the entire recording is variable between neurons. More generally, some neurons tend to spike more than others in a given period. Let's explore what the distribution of spiking looks like across all the neurons in the dataset."
      ]
    },
    {
      "cell_type": "markdown",
      "metadata": {
        "execution": {},
        "id": "zCmrsMgl_aQm"
      },
      "source": [
        "Are most neurons \"loud\" or \"quiet\", compared to the average? To see, we'll define bins of constant width in terms of total spikes and count the neurons that fall in each bin. This is known as a \"histogram\".\n",
        "\n",
        "You can plot a histogram with the matplotlib function `plt.hist`. If you just need to compute it, you can use the numpy function `np.histogram` instead."
      ]
    },
    {
      "cell_type": "code",
      "execution_count": 22,
      "metadata": {
        "execution": {},
        "pycharm": {
          "name": "#%%\n"
        },
        "id": "8HGJmC7R_aQn",
        "outputId": "a88f982c-fd99-4e83-a035-02b0bc32ed32",
        "colab": {
          "base_uri": "https://localhost:8080/",
          "height": 592
        }
      },
      "outputs": [
        {
          "output_type": "display_data",
          "data": {
            "text/plain": [
              "<Figure size 800x600 with 1 Axes>"
            ],
            "image/png": "[encoded data removed]"
          },
          "metadata": {
            "image/png": {
              "width": 775,
              "height": 575
            }
          }
        }
      ],
      "source": [
        "plt.hist(total_spikes_per_neuron, bins=50, histtype=\"stepfilled\")\n",
        "plt.xlabel(\"Total spikes per neuron\")\n",
        "plt.ylabel(\"Number of neurons\");"
      ]
    },
    {
      "cell_type": "markdown",
      "metadata": {
        "execution": {},
        "id": "HwpzL0O5_aQn"
      },
      "source": [
        "Let's see what percentage of neurons have a below-average spike count:"
      ]
    },
    {
      "cell_type": "code",
      "execution_count": 23,
      "metadata": {
        "execution": {},
        "pycharm": {
          "name": "#%%\n"
        },
        "id": "4bBE8kY7_aQn",
        "outputId": "7f4b39d3-9d22-46b0-87ab-eb6d512e91fe",
        "colab": {
          "base_uri": "https://localhost:8080/"
        }
      },
      "outputs": [
        {
          "output_type": "stream",
          "name": "stdout",
          "text": [
            "68.0% of neurons are below the mean\n"
          ]
        }
      ],
      "source": [
        "mean_spike_count = np.mean(total_spikes_per_neuron)\n",
        "frac_below_mean = (total_spikes_per_neuron < mean_spike_count).mean()\n",
        "print(f\"{frac_below_mean:2.1%} of neurons are below the mean\")"
      ]
    },
    {
      "cell_type": "markdown",
      "metadata": {
        "execution": {},
        "id": "IfaH-4Kd_aQn"
      },
      "source": [
        "We can also see this by adding the average spike count to the histogram plot:"
      ]
    },
    {
      "cell_type": "code",
      "execution_count": 24,
      "metadata": {
        "execution": {},
        "pycharm": {
          "name": "#%%\n"
        },
        "id": "7K1ZtrLP_aQn",
        "outputId": "3d33cb12-9787-4859-9a59-23636ca54549",
        "colab": {
          "base_uri": "https://localhost:8080/",
          "height": 592
        }
      },
      "outputs": [
        {
          "output_type": "display_data",
          "data": {
            "text/plain": [
              "<Figure size 800x600 with 1 Axes>"
            ],
            "image/png": "[encoded data removed]"
          },
          "metadata": {
            "image/png": {
              "width": 775,
              "height": 575
            }
          }
        }
      ],
      "source": [
        "plt.hist(total_spikes_per_neuron, bins=50, histtype=\"stepfilled\")\n",
        "plt.xlabel(\"Total spikes per neuron\")\n",
        "plt.ylabel(\"Number of neurons\")\n",
        "plt.axvline(mean_spike_count, color=\"orange\", label=\"Mean neuron\")\n",
        "plt.legend();"
      ]
    },
    {
      "cell_type": "markdown",
      "metadata": {
        "execution": {},
        "id": "xFJiZJgW_aQn"
      },
      "source": [
        "This shows that the majority of neurons are relatively \"quiet\" compared to the mean, while a small number of neurons are exceptionally \"loud\": they must have spiked more often to reach a large count.\n",
        "\n",
        "### Coding Exercise 1.2: Comparing mean and median neurons\n",
        "\n",
        "If the mean neuron is more active than 68% of the population, what does that imply about the relationship between the mean neuron and the median neuron?\n",
        "\n",
        "*Exercise objective:* Reproduce the plot above, but add the median neuron.\n"
      ]
    },
    {
      "cell_type": "code",
      "execution_count": 31,
      "metadata": {
        "execution": {},
        "pycharm": {
          "name": "#%%\n"
        },
        "id": "JoelmU1U_aQn",
        "outputId": "6dea50b3-cc53-46b5-a2d3-16decea93876",
        "colab": {
          "base_uri": "https://localhost:8080/",
          "height": 609
        }
      },
      "outputs": [
        {
          "output_type": "execute_result",
          "data": {
            "text/plain": [
              "<matplotlib.legend.Legend at 0x7b7c64a77c10>"
            ]
          },
          "metadata": {},
          "execution_count": 31
        },
        {
          "output_type": "display_data",
          "data": {
            "text/plain": [
              "<Figure size 800x600 with 1 Axes>"
            ],
            "image/png": "[encoded data removed]"
          },
          "metadata": {
            "image/png": {
              "width": 775,
              "height": 575
            }
          }
        }
      ],
      "source": [
        "#################################################################################\n",
        "## TODO for students:\n",
        "# Fill out function and remove\n",
        "#raise NotImplementedError(\"Student exercise: complete histogram plotting with median\")\n",
        "#################################################################################\n",
        "\n",
        "# Compute median spike count\n",
        "median_spike_count = np.median(total_spikes_per_neuron)# Hint: Try the function np.median\n",
        "\n",
        "# Visualize median, mean, and histogram\n",
        "plt.hist(total_spikes_per_neuron, bins=50, histtype=\"stepfilled\")\n",
        "plt.axvline(median_spike_count, color=\"limegreen\", label=\"Median neuron\")\n",
        "plt.axvline(mean_spike_count, color=\"orange\", label=\"Mean neuron\")\n",
        "plt.xlabel(\"Total spikes per neuron\")\n",
        "plt.ylabel(\"Number of neurons\")\n",
        "plt.legend()"
      ]
    },
    {
      "cell_type": "markdown",
      "metadata": {
        "execution": {},
        "pycharm": {
          "name": "#%%\n"
        },
        "id": "IXE9W0qA_aQr"
      },
      "source": [
        "[*Click for solution*](https://github.com/NeuromatchAcademy/course-content/tree/main/tutorials/W1D1_ModelTypes/solutions/W1D1_Tutorial1_Solution_9af91fe0.py)\n",
        "\n",
        "*Example output:*\n",
        "\n",
        "<img alt='Solution hint' align='left' width=775.0 height=575.0 src=https://raw.githubusercontent.com/NeuromatchAcademy/course-content/main/tutorials/W1D1_ModelTypes/static/W1D1_Tutorial1_Solution_9af91fe0_0.png>\n",
        "\n"
      ]
    },
    {
      "cell_type": "markdown",
      "metadata": {
        "execution": {},
        "id": "8Ld28kQX_aQs"
      },
      "source": [
        "\n",
        "*Bonus:* The median is the 50th percentile. What about other percentiles? Can you show the interquartile range on the histogram?"
      ]
    },
    {
      "cell_type": "code",
      "execution_count": null,
      "metadata": {
        "cellView": "form",
        "execution": {},
        "id": "pCty0APd_aQs"
      },
      "outputs": [],
      "source": [
        "# @title Submit your feedback\n",
        "content_review(f\"{feedback_prefix}_Comparing_mean_and_median_neurons_Exercise\")"
      ]
    },
    {
      "cell_type": "markdown",
      "metadata": {
        "execution": {},
        "id": "QGlfXNeG_aQs"
      },
      "source": [
        "---\n",
        "\n",
        "# Section 2: Visualizing neuronal spiking activity\n",
        "\n",
        "*Estimated timing to here from start of tutorial: 15 min*"
      ]
    },
    {
      "cell_type": "markdown",
      "metadata": {
        "execution": {},
        "id": "-rgoN7-X_aQs"
      },
      "source": [
        "## Section 2.1: Getting a subset of the data\n",
        "\n",
        "Now we'll visualize trains of spikes. Because the recordings are long, we will first define a short time interval and restrict the visualization to only the spikes in this interval. We defined a helper function, `restrict_spike_times`, to do this for you. If you call `help()` on the function, it will tell you a little bit about itself:"
      ]
    },
    {
      "cell_type": "code",
      "execution_count": 33,
      "metadata": {
        "execution": {},
        "id": "q9fop4_L_aQs"
      },
      "outputs": [],
      "source": [
        "# @markdown Execute this cell for helper function `restrict_spike_times`\n",
        "def restrict_spike_times(spike_times, interval):\n",
        "  \"\"\"Given a spike_time dataset, restrict to spikes within given interval.\n",
        "\n",
        "  Args:\n",
        "    spike_times (sequence of np.ndarray): List or array of arrays,\n",
        "      each inner array has spike times for a single neuron.\n",
        "    interval (tuple): Min, max time values; keep min <= t < max.\n",
        "\n",
        "  Returns:\n",
        "    np.ndarray: like `spike_times`, but only within `interval`\n",
        "  \"\"\"\n",
        "  interval_spike_times = []\n",
        "  for spikes in spike_times:\n",
        "    interval_mask = (spikes >= interval[0]) & (spikes < interval[1])\n",
        "    interval_spike_times.append(spikes[interval_mask])\n",
        "  return np.array(interval_spike_times, object)"
      ]
    },
    {
      "cell_type": "code",
      "execution_count": 34,
      "metadata": {
        "execution": {},
        "pycharm": {
          "name": "#%%\n"
        },
        "id": "cAihFChQ_aQs",
        "outputId": "dd9d00da-4433-4732-e440-9588379639fa",
        "colab": {
          "base_uri": "https://localhost:8080/"
        }
      },
      "outputs": [
        {
          "output_type": "stream",
          "name": "stdout",
          "text": [
            "Help on function restrict_spike_times in module __main__:\n",
            "\n",
            "restrict_spike_times(spike_times, interval)\n",
            "    Given a spike_time dataset, restrict to spikes within given interval.\n",
            "    \n",
            "    Args:\n",
            "      spike_times (sequence of np.ndarray): List or array of arrays,\n",
            "        each inner array has spike times for a single neuron.\n",
            "      interval (tuple): Min, max time values; keep min <= t < max.\n",
            "    \n",
            "    Returns:\n",
            "      np.ndarray: like `spike_times`, but only within `interval`\n",
            "\n"
          ]
        }
      ],
      "source": [
        "help(restrict_spike_times)"
      ]
    },
    {
      "cell_type": "code",
      "execution_count": 36,
      "metadata": {
        "execution": {},
        "pycharm": {
          "name": "#%%\n"
        },
        "id": "QCZf8ft__aQs"
      },
      "outputs": [],
      "source": [
        "t_interval = (5, 15)  # units are seconds after start of recording\n",
        "interval_spike_times = restrict_spike_times(spike_times, t_interval)"
      ]
    },
    {
      "cell_type": "markdown",
      "metadata": {
        "execution": {},
        "id": "wO0VwX8b_aQt"
      },
      "source": [
        "Is this a representative interval? What fraction of the total spikes fall in this interval?"
      ]
    },
    {
      "cell_type": "code",
      "execution_count": 37,
      "metadata": {
        "execution": {},
        "pycharm": {
          "name": "#%%\n"
        },
        "id": "Q2nZEce7_aQt",
        "outputId": "659ac11d-3c5a-49b3-835e-a633a53c8dd7",
        "colab": {
          "base_uri": "https://localhost:8080/"
        }
      },
      "outputs": [
        {
          "output_type": "stream",
          "name": "stdout",
          "text": [
            "0.33% of the total spikes are in the interval\n"
          ]
        }
      ],
      "source": [
        "original_counts = sum([len(spikes) for spikes in spike_times])\n",
        "interval_counts = sum([len(spikes) for spikes in interval_spike_times])\n",
        "frac_interval_spikes = interval_counts / original_counts\n",
        "print(f\"{frac_interval_spikes:.2%} of the total spikes are in the interval\")"
      ]
    },
    {
      "cell_type": "markdown",
      "metadata": {
        "execution": {},
        "id": "JjqYB_8t_aQt"
      },
      "source": [
        "How does this compare to the ratio between the interval duration and the experiment duration? (What fraction of the total time is in this interval?)\n",
        "\n",
        "We can approximate the experiment duration by taking the minimum and maximum spike time in the whole dataset. To do that, we \"concatenate\" all of the neurons into one array and then use `np.ptp` (\"peak-to-peak\") to get the difference between the maximum and minimum value:"
      ]
    },
    {
      "cell_type": "code",
      "execution_count": 38,
      "metadata": {
        "execution": {},
        "pycharm": {
          "name": "#%%\n"
        },
        "id": "Mdh-yexZ_aQt",
        "outputId": "53551da3-f95a-49b8-b66c-6bcde419f47c",
        "colab": {
          "base_uri": "https://localhost:8080/"
        }
      },
      "outputs": [
        {
          "output_type": "stream",
          "name": "stdout",
          "text": [
            "0.37% of the total time is in the interval\n"
          ]
        }
      ],
      "source": [
        "spike_times_flat = np.concatenate(spike_times)\n",
        "experiment_duration = np.ptp(spike_times_flat)\n",
        "interval_duration = t_interval[1] - t_interval[0]\n",
        "\n",
        "frac_interval_time = interval_duration / experiment_duration\n",
        "print(f\"{frac_interval_time:.2%} of the total time is in the interval\")"
      ]
    },
    {
      "cell_type": "markdown",
      "metadata": {
        "execution": {},
        "id": "f-Y3BefV_aQt"
      },
      "source": [
        "These two values—the fraction of total spikes and the fraction of total time—are similar. This suggests the average spike rate of the neuronal population is not very different in this interval compared to the entire recording.\n",
        "\n",
        "## Section 2.2: Plotting spike trains and rasters\n",
        "\n",
        "Now that we have a representative subset, we're ready to plot the spikes, using the matplotlib `plt.eventplot` function. Let's look at a single neuron first:"
      ]
    },
    {
      "cell_type": "code",
      "execution_count": 39,
      "metadata": {
        "execution": {},
        "pycharm": {
          "name": "#%%\n"
        },
        "id": "HqKz7xnd_aQt",
        "outputId": "53f9e8c7-91d0-4c4e-8e7e-0a18bf1f13cd",
        "colab": {
          "base_uri": "https://localhost:8080/",
          "height": 592
        }
      },
      "outputs": [
        {
          "output_type": "display_data",
          "data": {
            "text/plain": [
              "<Figure size 800x600 with 1 Axes>"
            ],
            "image/png": "[encoded data removed]"
          },
          "metadata": {
            "image/png": {
              "width": 775,
              "height": 575
            }
          }
        }
      ],
      "source": [
        "neuron_idx = 1\n",
        "plt.eventplot(interval_spike_times[neuron_idx], color=\".2\")\n",
        "plt.xlabel(\"Time (s)\")\n",
        "plt.yticks([]);"
      ]
    },
    {
      "cell_type": "markdown",
      "metadata": {
        "execution": {},
        "id": "MsGAjlx9_aQu"
      },
      "source": [
        "We can also plot multiple neurons. Here are three:"
      ]
    },
    {
      "cell_type": "code",
      "execution_count": 40,
      "metadata": {
        "execution": {},
        "pycharm": {
          "name": "#%%\n"
        },
        "id": "mcqPywbi_aQu",
        "outputId": "69ee739c-e17a-4d68-bbc1-2f2cd3c620fe",
        "colab": {
          "base_uri": "https://localhost:8080/",
          "height": 592
        }
      },
      "outputs": [
        {
          "output_type": "display_data",
          "data": {
            "text/plain": [
              "<Figure size 800x600 with 1 Axes>"
            ],
            "image/png": "[encoded data removed]"
          },
          "metadata": {
            "image/png": {
              "width": 775,
              "height": 575
            }
          }
        }
      ],
      "source": [
        "neuron_idx = [1, 11, 51]\n",
        "plt.eventplot(interval_spike_times[neuron_idx], color=\".2\")\n",
        "plt.xlabel(\"Time (s)\")\n",
        "plt.yticks([]);"
      ]
    },
    {
      "cell_type": "markdown",
      "metadata": {
        "execution": {},
        "id": "AnLkr8S0_aQu"
      },
      "source": [
        "This makes a \"raster\" plot, where the spikes from each neuron appear in a different row.\n",
        "\n",
        "Plotting a large number of neurons can give you a sense for the characteristics in the population. Let's show every 5th neuron that was recorded:"
      ]
    },
    {
      "cell_type": "code",
      "execution_count": 41,
      "metadata": {
        "execution": {},
        "pycharm": {
          "name": "#%%\n"
        },
        "id": "GufhmJQA_aQu",
        "outputId": "8ffd776a-7807-4123-d021-fdf2352baa6c",
        "colab": {
          "base_uri": "https://localhost:8080/",
          "height": 592
        }
      },
      "outputs": [
        {
          "output_type": "display_data",
          "data": {
            "text/plain": [
              "<Figure size 800x600 with 1 Axes>"
            ],
            "image/png": "[encoded data removed]"
          },
          "metadata": {
            "image/png": {
              "width": 775,
              "height": 575
            }
          }
        }
      ],
      "source": [
        "neuron_idx = np.arange(0, len(spike_times), 5)\n",
        "plt.eventplot(interval_spike_times[neuron_idx], color=\".2\")\n",
        "plt.xlabel(\"Time (s)\")\n",
        "plt.yticks([]);"
      ]
    },
    {
      "cell_type": "markdown",
      "metadata": {
        "execution": {},
        "id": "YajF4MJQ_aQu"
      },
      "source": [
        "*Question*: How does the information in this plot relate to the histogram of total spike counts that you saw above?"
      ]
    },
    {
      "cell_type": "markdown",
      "metadata": {
        "execution": {},
        "id": "JXntblKl_aQu"
      },
      "source": [
        "[*Click for solution*](https://github.com/NeuromatchAcademy/course-content/tree/main/tutorials/W1D1_ModelTypes/solutions/W1D1_Tutorial1_Solution_60e8b44b.py)\n",
        "\n"
      ]
    },
    {
      "cell_type": "code",
      "execution_count": 42,
      "metadata": {
        "cellView": "form",
        "execution": {},
        "id": "UZy4X1_H_aQu",
        "outputId": "93efcc44-0d0b-44e8-8886-69da3cf3b2e8",
        "colab": {
          "base_uri": "https://localhost:8080/",
          "height": 581,
          "referenced_widgets": [
            "c4d7ef5ead1a493da33d76b6014801ff",
            "b4083556ae1145ad996e7499616693b6",
            "636b37d2c74d4b2386907ab684ba24f4",
            "334fc639495547ff9a32b2a6ad6a8b69",
            "e4b335d948004ac4b2f16c35b0c9bc01",
            "f9e90887b278407288a4fc3d3d7b7b6e"
          ]
        }
      },
      "outputs": [
        {
          "output_type": "display_data",
          "data": {
            "text/plain": [
              "Tab(children=(Output(), Output()), _titles={'0': 'Youtube', '1': 'Bilibili'})"
            ],
            "application/vnd.jupyter.widget-view+json": {
              "version_major": 2,
              "version_minor": 0,
              "model_id": "c4d7ef5ead1a493da33d76b6014801ff"
            }
          },
          "metadata": {}
        }
      ],
      "source": [
        "# @title Video 3: Visualizing activity\n",
        "from ipywidgets import widgets\n",
        "from IPython.display import YouTubeVideo\n",
        "from IPython.display import IFrame\n",
        "from IPython.display import display\n",
        "\n",
        "\n",
        "class PlayVideo(IFrame):\n",
        "  def __init__(self, id, source, page=1, width=400, height=300, **kwargs):\n",
        "    self.id = id\n",
        "    if source == 'Bilibili':\n",
        "      src = f'https://player.bilibili.com/player.html?bvid={id}&page={page}'\n",
        "    elif source == 'Osf':\n",
        "      src = f'https://mfr.ca-1.osf.io/render?url=https://osf.io/download/{id}/?direct%26mode=render'\n",
        "    super(PlayVideo, self).__init__(src, width, height, **kwargs)\n",
        "\n",
        "\n",
        "def display_videos(video_ids, W=400, H=300, fs=1):\n",
        "  tab_contents = []\n",
        "  for i, video_id in enumerate(video_ids):\n",
        "    out = widgets.Output()\n",
        "    with out:\n",
        "      if video_ids[i][0] == 'Youtube':\n",
        "        video = YouTubeVideo(id=video_ids[i][1], width=W,\n",
        "                             height=H, fs=fs, rel=0)\n",
        "        print(f'Video available at https://youtube.com/watch?v={video.id}')\n",
        "      else:\n",
        "        video = PlayVideo(id=video_ids[i][1], source=video_ids[i][0], width=W,\n",
        "                          height=H, fs=fs, autoplay=False)\n",
        "        if video_ids[i][0] == 'Bilibili':\n",
        "          print(f'Video available at https://www.bilibili.com/video/{video.id}')\n",
        "        elif video_ids[i][0] == 'Osf':\n",
        "          print(f'Video available at https://osf.io/{video.id}')\n",
        "      display(video)\n",
        "    tab_contents.append(out)\n",
        "  return tab_contents\n",
        "\n",
        "\n",
        "video_ids = [('Youtube', 'QGA5FCW7kkA'), ('Bilibili', 'BV1dt4y1Q7C5')]\n",
        "tab_contents = display_videos(video_ids, W=854, H=480)\n",
        "tabs = widgets.Tab()\n",
        "tabs.children = tab_contents\n",
        "for i in range(len(tab_contents)):\n",
        "  tabs.set_title(i, video_ids[i][0])\n",
        "display(tabs)"
      ]
    },
    {
      "cell_type": "code",
      "execution_count": null,
      "metadata": {
        "cellView": "form",
        "execution": {},
        "id": "k1FKa6yo_aQv"
      },
      "outputs": [],
      "source": [
        "# @title Submit your feedback\n",
        "content_review(f\"{feedback_prefix}_Visualizing_activity_Video\")"
      ]
    },
    {
      "cell_type": "markdown",
      "metadata": {
        "execution": {},
        "id": "lOhY1eTD_aQv"
      },
      "source": [
        "---\n",
        "\n",
        "# Section 3: Inter-spike intervals and their distributions\n",
        "\n",
        "*Estimated timing to here from start of tutorial: 25 min*"
      ]
    },
    {
      "cell_type": "markdown",
      "metadata": {
        "execution": {},
        "id": "Z-wDh75R_aQv"
      },
      "source": [
        "Given the ordered arrays of spike times for each neuron in `spike_times`, which we've just visualized, what can we ask next?\n",
        "\n",
        "Scientific questions are informed by existing models. So, what knowledge do we already have that can inform questions about this data?\n",
        "\n",
        "We know that there are physical constraints on neuron spiking. Spiking costs energy, which the neuron's cellular machinery can only obtain at a finite rate. Therefore neurons should have a refractory period: they can only fire as quickly as their metabolic processes can support, and there is a minimum delay between consecutive spikes of the same neuron.\n",
        "\n",
        "More generally, we can ask \"how long does a neuron wait to spike again?\" or \"what is the longest a neuron will wait?\" Can we transform spike times into something else, to address questions like these more directly?\n",
        "\n",
        "We can consider the inter-spike times (or interspike intervals: ISIs). These are simply the time differences between consecutive spikes of the same neuron.\n",
        "\n",
        "### Exercise 3: Plot the distribution of ISIs for a single neuron\n",
        "\n",
        "*Exercise objective:* make a histogram, like we did for spike counts, to show the distribution of ISIs for one of the neurons in the dataset.\n",
        "\n",
        "Do this in three steps:\n",
        "\n",
        "1. Extract the spike times for one of the neurons\n",
        "2. Compute the ISIs (the amount of time between spikes, or equivalently, the difference between adjacent spike times)\n",
        "3. Plot a histogram with the array of individual ISIs"
      ]
    },
    {
      "cell_type": "code",
      "execution_count": 45,
      "metadata": {
        "execution": {},
        "pycharm": {
          "name": "#%%\n"
        },
        "id": "MYl2b_Q8_aQv",
        "outputId": "612f2350-6b71-4ef2-c482-4d55933af09f",
        "colab": {
          "base_uri": "https://localhost:8080/",
          "height": 592
        }
      },
      "outputs": [
        {
          "output_type": "display_data",
          "data": {
            "text/plain": [
              "<Figure size 800x600 with 1 Axes>"
            ],
            "image/png": "[encoded data removed]"
          },
          "metadata": {
            "image/png": {
              "width": 775,
              "height": 575
            }
          }
        }
      ],
      "source": [
        "def compute_single_neuron_isis(spike_times, neuron_idx):\n",
        "  \"\"\"Compute a vector of ISIs for a single neuron given spike times.\n",
        "\n",
        "  Args:\n",
        "    spike_times (list of 1D arrays): Spike time dataset, with the first\n",
        "      dimension corresponding to different neurons.\n",
        "    neuron_idx (int): Index of the unit to compute ISIs for.\n",
        "\n",
        "  Returns:\n",
        "    isis (1D array): Duration of time between each spike from one neuron.\n",
        "  \"\"\"\n",
        "  #############################################################################\n",
        "  # Students: Fill in missing code (...) and comment or remove the next line\n",
        "  #raise NotImplementedError(\"Exercise: compute single neuron ISIs\")\n",
        "  #############################################################################\n",
        "\n",
        "  # Extract the spike times for the specified neuron\n",
        "  single_neuron_spikes = spike_times[neuron_idx]\n",
        "\n",
        "  # Compute the ISIs for this set of spikes\n",
        "  # Hint: the function np.diff computes discrete differences along an array\n",
        "  isis = np.diff(single_neuron_spikes)\n",
        "\n",
        "  return isis\n",
        "\n",
        "# Compute ISIs\n",
        "single_neuron_isis = compute_single_neuron_isis(spike_times, neuron_idx=283)\n",
        "\n",
        "# Visualize ISIs\n",
        "plot_isis(single_neuron_isis)"
      ]
    },
    {
      "cell_type": "markdown",
      "metadata": {
        "execution": {},
        "pycharm": {
          "name": "#%%\n"
        },
        "id": "n8cmwuTG_aQv"
      },
      "source": [
        "[*Click for solution*](https://github.com/NeuromatchAcademy/course-content/tree/main/tutorials/W1D1_ModelTypes/solutions/W1D1_Tutorial1_Solution_2972c168.py)\n",
        "\n",
        "*Example output:*\n",
        "\n",
        "<img alt='Solution hint' align='left' width=775.0 height=575.0 src=https://raw.githubusercontent.com/NeuromatchAcademy/course-content/main/tutorials/W1D1_ModelTypes/static/W1D1_Tutorial1_Solution_2972c168_0.png>\n",
        "\n"
      ]
    },
    {
      "cell_type": "markdown",
      "metadata": {
        "execution": {},
        "id": "tvOvCV0z_aQv"
      },
      "source": [
        "In general, the shorter ISIs are predominant, with counts decreasing rapidly (and smoothly, more or less) with increasing ISI. However, counts also rapidly decrease to zero with _decreasing_ ISI below the maximum of the distribution (8-11 ms). The absence of these very low ISIs agrees with the refractory period hypothesis: the neuron cannot fire quickly enough to populate this region of the ISI distribution.\n",
        "\n",
        "Check the distributions of some other neurons. To resolve various features of the distributions, you might need to play with the value of `bins` in the call to `plt.hist`. Using too few bins might smooth over interesting details, but if you use too many bins, the random variability will start to dominate.\n",
        "\n",
        "You might also want to restrict the range to see the shape of the distribution when focusing on relatively short or long ISIs. *Hint:* `plt.hist` takes a `range` argument"
      ]
    },
    {
      "cell_type": "code",
      "execution_count": null,
      "metadata": {
        "cellView": "form",
        "execution": {},
        "id": "96hEt5Q0_aQw"
      },
      "outputs": [],
      "source": [
        "# @title Submit your feedback\n",
        "content_review(f\"{feedback_prefix}_ISIs_and_their_distributions_Exercise\")"
      ]
    },
    {
      "cell_type": "markdown",
      "metadata": {
        "execution": {},
        "id": "DG-gi8Hu_aQw"
      },
      "source": [
        "---\n",
        "\n",
        "# Section 4: What is the functional form of an ISI distribution?\n",
        "\n",
        "*Estimated timing to here from start of tutorial: 35 min*"
      ]
    },
    {
      "cell_type": "code",
      "execution_count": 46,
      "metadata": {
        "cellView": "form",
        "execution": {},
        "id": "IdJuqHlH_aQw",
        "outputId": "a872e8f2-6535-4faa-887e-a837b33f00c1",
        "colab": {
          "base_uri": "https://localhost:8080/",
          "height": 581,
          "referenced_widgets": [
            "1baa151b63c143e49313ee1d3dff4dd9",
            "de1e96256e9140e3b87926ee755bb90d",
            "bf57c816cda94774904f36394c277591",
            "2ae0a3c8307d49bf84d4a104944f3d7a",
            "70471b5df91144a09b0ee47a39afd090",
            "1f6cc5419c7349c9b3d0e12e0384558c"
          ]
        }
      },
      "outputs": [
        {
          "output_type": "display_data",
          "data": {
            "text/plain": [
              "Tab(children=(Output(), Output()), _titles={'0': 'Youtube', '1': 'Bilibili'})"
            ],
            "application/vnd.jupyter.widget-view+json": {
              "version_major": 2,
              "version_minor": 0,
              "model_id": "1baa151b63c143e49313ee1d3dff4dd9"
            }
          },
          "metadata": {}
        }
      ],
      "source": [
        "# @title Video 4: ISI distribution\n",
        "from ipywidgets import widgets\n",
        "from IPython.display import YouTubeVideo\n",
        "from IPython.display import IFrame\n",
        "from IPython.display import display\n",
        "\n",
        "\n",
        "class PlayVideo(IFrame):\n",
        "  def __init__(self, id, source, page=1, width=400, height=300, **kwargs):\n",
        "    self.id = id\n",
        "    if source == 'Bilibili':\n",
        "      src = f'https://player.bilibili.com/player.html?bvid={id}&page={page}'\n",
        "    elif source == 'Osf':\n",
        "      src = f'https://mfr.ca-1.osf.io/render?url=https://osf.io/download/{id}/?direct%26mode=render'\n",
        "    super(PlayVideo, self).__init__(src, width, height, **kwargs)\n",
        "\n",
        "\n",
        "def display_videos(video_ids, W=400, H=300, fs=1):\n",
        "  tab_contents = []\n",
        "  for i, video_id in enumerate(video_ids):\n",
        "    out = widgets.Output()\n",
        "    with out:\n",
        "      if video_ids[i][0] == 'Youtube':\n",
        "        video = YouTubeVideo(id=video_ids[i][1], width=W,\n",
        "                             height=H, fs=fs, rel=0)\n",
        "        print(f'Video available at https://youtube.com/watch?v={video.id}')\n",
        "      else:\n",
        "        video = PlayVideo(id=video_ids[i][1], source=video_ids[i][0], width=W,\n",
        "                          height=H, fs=fs, autoplay=False)\n",
        "        if video_ids[i][0] == 'Bilibili':\n",
        "          print(f'Video available at https://www.bilibili.com/video/{video.id}')\n",
        "        elif video_ids[i][0] == 'Osf':\n",
        "          print(f'Video available at https://osf.io/{video.id}')\n",
        "      display(video)\n",
        "    tab_contents.append(out)\n",
        "  return tab_contents\n",
        "\n",
        "\n",
        "video_ids = [('Youtube', 'DHhM80MOTe8'), ('Bilibili', 'BV1ov411B7Pm')]\n",
        "tab_contents = display_videos(video_ids, W=854, H=480)\n",
        "tabs = widgets.Tab()\n",
        "tabs.children = tab_contents\n",
        "for i in range(len(tab_contents)):\n",
        "  tabs.set_title(i, video_ids[i][0])\n",
        "display(tabs)"
      ]
    },
    {
      "cell_type": "code",
      "execution_count": null,
      "metadata": {
        "cellView": "form",
        "execution": {},
        "id": "_wXvPHDK_aQw"
      },
      "outputs": [],
      "source": [
        "# @title Submit your feedback\n",
        "content_review(f\"{feedback_prefix}_ISI_distribution_Video\")"
      ]
    },
    {
      "cell_type": "markdown",
      "metadata": {
        "execution": {},
        "id": "L4UDWe4T_aQw"
      },
      "source": [
        "The ISI histograms seem to follow continuous, monotonically decreasing functions above their maxima. The function is clearly non-linear. Could it belong to a single family of functions?\n",
        "\n",
        "To motivate the idea of using a mathematical function to explain physiological phenomena, let's define a few different function forms that we might expect the relationship to follow: exponential, inverse, and linear."
      ]
    },
    {
      "cell_type": "code",
      "execution_count": 47,
      "metadata": {
        "execution": {},
        "pycharm": {
          "name": "#%%\n"
        },
        "id": "An9yyNO7_aQw"
      },
      "outputs": [],
      "source": [
        "def exponential(xs, scale, rate, x0):\n",
        "  \"\"\"A simple parameterized exponential function, applied element-wise.\n",
        "\n",
        "  Args:\n",
        "    xs (np.ndarray or float): Input(s) to the function.\n",
        "    scale (float): Linear scaling factor.\n",
        "    rate (float): Exponential growth (positive) or decay (negative) rate.\n",
        "    x0 (float): Horizontal offset.\n",
        "\n",
        "  \"\"\"\n",
        "  ys = scale * np.exp(rate * (xs - x0))\n",
        "  return ys\n",
        "\n",
        "def inverse(xs, scale, x0):\n",
        "  \"\"\"A simple parameterized inverse function (`1/x`), applied element-wise.\n",
        "\n",
        "  Args:\n",
        "    xs (np.ndarray or float): Input(s) to the function.\n",
        "    scale (float): Linear scaling factor.\n",
        "    x0 (float): Horizontal offset.\n",
        "\n",
        "  \"\"\"\n",
        "  ys = scale / (xs - x0)\n",
        "  return ys\n",
        "\n",
        "def linear(xs, slope, y0):\n",
        "  \"\"\"A simple linear function, applied element-wise.\n",
        "\n",
        "  Args:\n",
        "    xs (np.ndarray or float): Input(s) to the function.\n",
        "    slope (float): Slope of the line.\n",
        "    y0 (float): y-intercept of the line.\n",
        "\n",
        "  \"\"\"\n",
        "  ys = slope * xs + y0\n",
        "  return ys"
      ]
    },
    {
      "cell_type": "markdown",
      "metadata": {
        "execution": {},
        "id": "yMJ_8QGq_aQx"
      },
      "source": [
        "### Interactive Demo 4: ISI functions explorer\n",
        "\n",
        "Here is an interactive demo where you can vary the parameters of these functions and see how well the resulting outputs correspond to the data. Adjust the parameters by moving the sliders and see how close you can get the lines to follow the falling curve of the histogram. This will give you a taste of what you're trying to do when you *fit a model* to data.\n",
        "\n",
        "\"Interactive demo\" cells have hidden code that defines an interface where you can play with the parameters of some function using sliders. You don't need to worry about how the code works – but you do need to **run the cell** to enable the sliders.\n",
        "\n",
        "- Which type of function (exponential/inverse/linear) can you make match the data best?\n"
      ]
    },
    {
      "cell_type": "code",
      "execution_count": 48,
      "metadata": {
        "cellView": "form",
        "execution": {},
        "pycharm": {
          "name": "#%%\n"
        },
        "id": "BwYVHBF2_aQx",
        "outputId": "02bf2b47-6887-4cce-dd76-675276e4cf1b",
        "colab": {
          "base_uri": "https://localhost:8080/",
          "height": 816,
          "referenced_widgets": [
            "15c25c5012ee4f31b46e0c58934f748e",
            "d5c18c022d104109b7649be045c58b8d",
            "fa9062eb49ce433fa93a28e2b35129c9",
            "caca3b7270584305a8229fb622e91fd7",
            "20c7d07fb91049cab0cdec8c495a7316",
            "1e01f5f89a29438aa6e55addc5e988c2",
            "4ba81af7280d424190c0157afa9c596d",
            "7b97e0d30a2545cfbb9791900cabc2ac",
            "4f96f26d3c484047851ecda2c1c1aa55",
            "be330fc1073148129eaa2684eb7d3442",
            "db5ee431272b46fc94a19bd552f7eceb",
            "f7807a6e95d14473abb9d1159b959587",
            "ee2d3509495248f6a93921723f0549b4",
            "7f7617cd3f6742deac5f385ecc11b9f3",
            "0f1f883ed32e41d4b745cc08aa9bae27",
            "e8a23079d1394c829bd4d69aee87d420",
            "1555f33593de469cb7b7d31b76e38f02",
            "9347aeb006b34fc4b6d0b28f76871b14",
            "bcc20b3cb84b4d18b5339eab60a31523",
            "c8486720e6e548539ab99965c11cbf75",
            "6fe07e123a934bf89dbf9353afb3dbbe",
            "18668d9f803747a79687606abb92d2d1",
            "29478ac0835f442b916b3885a8a23ea9",
            "e3c82ff7250642f2ba6bf26adf5e8cd9",
            "7f7767f937404a9ebbf1c0188c3a4bee"
          ]
        }
      },
      "outputs": [
        {
          "output_type": "display_data",
          "data": {
            "text/plain": [
              "interactive(children=(FloatSlider(value=1000.0, description='exp_scale', max=20000.0, step=250.0), FloatSlider…"
            ],
            "application/vnd.jupyter.widget-view+json": {
              "version_major": 2,
              "version_minor": 0,
              "model_id": "15c25c5012ee4f31b46e0c58934f748e"
            }
          },
          "metadata": {}
        }
      ],
      "source": [
        "#@markdown Be sure to run this cell to enable the demo\n",
        "# Don't worry about understanding this code! It's to setup an interactive plot.\n",
        "single_neuron_idx = 283\n",
        "single_neuron_spikes = spike_times[single_neuron_idx]\n",
        "single_neuron_isis = np.diff(single_neuron_spikes)\n",
        "\n",
        "counts, edges = np.histogram(\n",
        "  single_neuron_isis,\n",
        "  bins=50,\n",
        "  range=(0, single_neuron_isis.max())\n",
        ")\n",
        "\n",
        "functions = dict(\n",
        "  exponential=exponential,\n",
        "  inverse=inverse,\n",
        "  linear=linear,\n",
        ")\n",
        "\n",
        "colors = dict(\n",
        "  exponential=\"C1\",\n",
        "  inverse=\"C2\",\n",
        "  linear=\"C4\",\n",
        ")\n",
        "\n",
        "@widgets.interact(\n",
        "  exp_scale=widgets.FloatSlider(1000, min=0, max=20000, step=250),\n",
        "  exp_rate=widgets.FloatSlider(-10, min=-200, max=50, step=1),\n",
        "  exp_x0=widgets.FloatSlider(0.1, min=-0.5, max=0.5, step=0.005),\n",
        "  inv_scale=widgets.FloatSlider(1000, min=0, max=3e2, step=10),\n",
        "  inv_x0=widgets.FloatSlider(0, min=-0.2, max=0.2, step=0.01),\n",
        "  lin_slope=widgets.FloatSlider(-1e5, min=-6e5, max=1e5, step=10000),\n",
        "  lin_y0=widgets.FloatSlider(10000, min=0, max=4e4, step=1000),\n",
        ")\n",
        "def fit_plot(\n",
        "  exp_scale=1000, exp_rate=-10, exp_x0=0.1,\n",
        "  inv_scale=1000, inv_x0=0,\n",
        "  lin_slope=-1e5, lin_y0=2000,\n",
        "):\n",
        "  \"\"\"Helper function for plotting function fits with interactive sliders.\"\"\"\n",
        "  func_params = dict(\n",
        "    exponential=(exp_scale, exp_rate, exp_x0),\n",
        "    inverse=(inv_scale, inv_x0),\n",
        "    linear=(lin_slope, lin_y0),\n",
        "  )\n",
        "  f, ax = plt.subplots()\n",
        "  ax.fill_between(edges[:-1], counts, step=\"post\", alpha=.5)\n",
        "  xs = np.linspace(1e-10, edges.max())\n",
        "  for name, function in functions.items():\n",
        "    ys = function(xs, *func_params[name])\n",
        "    ax.plot(xs, ys, lw=3, color=colors[name], label=name);\n",
        "  ax.set(\n",
        "      xlim=(edges.min(), edges.max()),\n",
        "      ylim=(0, counts.max() * 1.1),\n",
        "      xlabel=\"ISI (s)\",\n",
        "      ylabel=\"Number of spikes\",\n",
        "  )\n",
        "  ax.legend()\n",
        "  plt.show()"
      ]
    },
    {
      "cell_type": "markdown",
      "metadata": {
        "execution": {},
        "id": "RoHFFp4B_aQx"
      },
      "source": [
        "[*Click for solution*](https://github.com/NeuromatchAcademy/course-content/tree/main/tutorials/W1D1_ModelTypes/solutions/W1D1_Tutorial1_Solution_1bfa4ab0.py)\n",
        "\n"
      ]
    },
    {
      "cell_type": "code",
      "execution_count": null,
      "metadata": {
        "cellView": "form",
        "execution": {},
        "id": "r7KvX--N_aQx"
      },
      "outputs": [],
      "source": [
        "# @title Submit your feedback\n",
        "content_review(f\"{feedback_prefix}_ISI_functions_explorer_Interactive_Demo_and_Discussion\")"
      ]
    },
    {
      "cell_type": "code",
      "execution_count": 49,
      "metadata": {
        "cellView": "form",
        "execution": {},
        "id": "6oQ_nEqr_aQx",
        "outputId": "cd14121d-1cff-459e-fa1b-46fd8d3aca6c",
        "colab": {
          "base_uri": "https://localhost:8080/",
          "height": 581,
          "referenced_widgets": [
            "dfd334ccf44149f0981371059aa1dc87",
            "b9cf5867d2184e3ab2d66a7ed31f592a",
            "8f56d5ef878f4b02b73af90adf5cbf1d",
            "44fecf90b1c247e583af1cd681919f42",
            "27739611248a4cb58f53de98c76c350e",
            "419df8ea08d745c289170dc17ee1b8f8"
          ]
        }
      },
      "outputs": [
        {
          "output_type": "display_data",
          "data": {
            "text/plain": [
              "Tab(children=(Output(), Output()), _titles={'0': 'Youtube', '1': 'Bilibili'})"
            ],
            "application/vnd.jupyter.widget-view+json": {
              "version_major": 2,
              "version_minor": 0,
              "model_id": "dfd334ccf44149f0981371059aa1dc87"
            }
          },
          "metadata": {}
        }
      ],
      "source": [
        "# @title Video 5: Fitting models by hand\n",
        "from ipywidgets import widgets\n",
        "from IPython.display import YouTubeVideo\n",
        "from IPython.display import IFrame\n",
        "from IPython.display import display\n",
        "\n",
        "\n",
        "class PlayVideo(IFrame):\n",
        "  def __init__(self, id, source, page=1, width=400, height=300, **kwargs):\n",
        "    self.id = id\n",
        "    if source == 'Bilibili':\n",
        "      src = f'https://player.bilibili.com/player.html?bvid={id}&page={page}'\n",
        "    elif source == 'Osf':\n",
        "      src = f'https://mfr.ca-1.osf.io/render?url=https://osf.io/download/{id}/?direct%26mode=render'\n",
        "    super(PlayVideo, self).__init__(src, width, height, **kwargs)\n",
        "\n",
        "\n",
        "def display_videos(video_ids, W=400, H=300, fs=1):\n",
        "  tab_contents = []\n",
        "  for i, video_id in enumerate(video_ids):\n",
        "    out = widgets.Output()\n",
        "    with out:\n",
        "      if video_ids[i][0] == 'Youtube':\n",
        "        video = YouTubeVideo(id=video_ids[i][1], width=W,\n",
        "                             height=H, fs=fs, rel=0)\n",
        "        print(f'Video available at https://youtube.com/watch?v={video.id}')\n",
        "      else:\n",
        "        video = PlayVideo(id=video_ids[i][1], source=video_ids[i][0], width=W,\n",
        "                          height=H, fs=fs, autoplay=False)\n",
        "        if video_ids[i][0] == 'Bilibili':\n",
        "          print(f'Video available at https://www.bilibili.com/video/{video.id}')\n",
        "        elif video_ids[i][0] == 'Osf':\n",
        "          print(f'Video available at https://osf.io/{video.id}')\n",
        "      display(video)\n",
        "    tab_contents.append(out)\n",
        "  return tab_contents\n",
        "\n",
        "\n",
        "video_ids = [('Youtube', 'uW2HDk_4-wk'), ('Bilibili', 'BV1w54y1S7Eb')]\n",
        "tab_contents = display_videos(video_ids, W=854, H=480)\n",
        "tabs = widgets.Tab()\n",
        "tabs.children = tab_contents\n",
        "for i in range(len(tab_contents)):\n",
        "  tabs.set_title(i, video_ids[i][0])\n",
        "display(tabs)"
      ]
    },
    {
      "cell_type": "code",
      "execution_count": null,
      "metadata": {
        "cellView": "form",
        "execution": {},
        "id": "k34TWh3s_aQx"
      },
      "outputs": [],
      "source": [
        "# @title Submit your feedback\n",
        "content_review(f\"{feedback_prefix}_Fitting_models_by_hand_Video\")"
      ]
    },
    {
      "cell_type": "markdown",
      "metadata": {
        "execution": {},
        "id": "uAwCVzRz_aQy"
      },
      "source": [
        "---\n",
        "# Section 5: Reflecting on what models\n",
        "\n",
        "*Estimated timing to here from start of tutorial: 40 min*"
      ]
    },
    {
      "cell_type": "markdown",
      "metadata": {
        "execution": {},
        "id": "5avR2ZYH_aQ0"
      },
      "source": [
        "## Think! 5: Reflecting on what models\n",
        "\n",
        "Please discuss the following questions for around 10 minutes with your group:\n",
        "- Have you seen what models before?\n",
        "- Have you ever done one?\n",
        "- Why are what models useful?\n",
        "- When are they possible? Does your field have what models?\n",
        "- What do we learn from constructing them?"
      ]
    },
    {
      "cell_type": "code",
      "execution_count": null,
      "metadata": {
        "cellView": "form",
        "execution": {},
        "id": "3UEJfMGf_aQ1"
      },
      "outputs": [],
      "source": [
        "# @title Submit your feedback\n",
        "content_review(f\"{feedback_prefix}_Reflecting_on_what_models_Discussion\")"
      ]
    },
    {
      "cell_type": "markdown",
      "metadata": {
        "execution": {},
        "id": "5wQbHb3I_aQ1"
      },
      "source": [
        "---\n",
        "# Summary\n",
        "\n",
        "*Estimated timing of tutorial: 50 minutes*\n",
        "\n",
        "In this tutorial, we loaded some neural data and poked at it to understand how the dataset is organized. Then we made some basic plots to visualize (1) the average level of activity across the population and (2) the distribution of ISIs for an individual neuron. In the very last bit, we started to think about using mathematical formalisms to understand or explain some physiological phenomenon. All of this only allowed us to understand \"What\" the data looks like.\n",
        "\n",
        "This is the first step towards developing models that can tell us something about the brain. That's what we'll focus on in the next two tutorials."
      ]
    }
  ],
  "metadata": {
    "colab": {
      "name": "W1D1_Tutorial1",
      "provenance": [],
      "toc_visible": true,
      "include_colab_link": true
    },
    "kernel": {
      "display_name": "Python 3",
      "language": "python",
      "name": "python3"
    },
    "kernelspec": {
      "display_name": "Python 3",
      "name": "python3"
    },
    "language_info": {
      "codemirror_mode": {
        "name": "ipython",
        "version": 3
      },
      "file_extension": ".py",
      "mimetype": "text/x-python",
      "name": "python",
      "nbconvert_exporter": "python",
      "pygments_lexer": "ipython3",
      "version": "3.9.21"
    },
    "widgets": {
      "application/vnd.jupyter.widget-state+json": {
        "85f10d1ee45f4387ba89a88e61a25a63": {
          "model_module": "@jupyter-widgets/controls",
          "model_name": "TabModel",
          "model_module_version": "1.5.0",
          "state": {
            "_dom_classes": [],
            "_model_module": "@jupyter-widgets/controls",
            "_model_module_version": "1.5.0",
            "_model_name": "TabModel",
            "_titles": {
              "0": "Youtube",
              "1": "Bilibili"
            },
            "_view_count": null,
            "_view_module": "@jupyter-widgets/controls",
            "_view_module_version": "1.5.0",
            "_view_name": "TabView",
            "box_style": "",
            "children": [
              "IPY_MODEL_391e9f849b9b4bc3aa3a1b543149d5a0",
              "IPY_MODEL_80303ad8eea345e2a0601ebebffc4eca"
            ],
            "layout": "IPY_MODEL_41bf574addd64e9b8b275500412c417b",
            "selected_index": 1
          }
        },
        "391e9f849b9b4bc3aa3a1b543149d5a0": {
          "model_module": "@jupyter-widgets/output",
          "model_name": "OutputModel",
          "model_module_version": "1.0.0",
          "state": {
            "_dom_classes": [],
            "_model_module": "@jupyter-widgets/output",
            "_model_module_version": "1.0.0",
            "_model_name": "OutputModel",
            "_view_count": null,
            "_view_module": "@jupyter-widgets/output",
            "_view_module_version": "1.0.0",
            "_view_name": "OutputView",
            "layout": "IPY_MODEL_555c77af5af440d4aca5968346ef46fe",
            "msg_id": "",
            "outputs": [
              {
                "output_type": "stream",
                "name": "stdout",
                "text": [
                  "Video available at https://youtube.com/watch?v=oHwYWUI_o1U\n"
                ]
              },
              {
                "output_type": "display_data",
                "data": {
                  "text/plain": "<IPython.lib.display.YouTubeVideo at 0x7b7c880eb190>",
                  "text/html": "\n        <iframe\n            width=\"854\"\n            height=\"480\"\n            src=\"https://www.youtube.com/embed/oHwYWUI_o1U?fs=1&rel=0\"\n            frameborder=\"0\"\n            allowfullscreen\n            \n        ></iframe>\n        ",
                  "image/jpeg": "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\n"
                },
                "metadata": {}
              }
            ]
          }
        },
        "80303ad8eea345e2a0601ebebffc4eca": {
          "model_module": "@jupyter-widgets/output",
          "model_name": "OutputModel",
          "model_module_version": "1.0.0",
          "state": {
            "_dom_classes": [],
            "_model_module": "@jupyter-widgets/output",
            "_model_module_version": "1.0.0",
            "_model_name": "OutputModel",
            "_view_count": null,
            "_view_module": "@jupyter-widgets/output",
            "_view_module_version": "1.0.0",
            "_view_name": "OutputView",
            "layout": "IPY_MODEL_0e8872271ee448ecb35fbadd1bc1532b",
            "msg_id": "",
            "outputs": [
              {
                "output_type": "stream",
                "name": "stdout",
                "text": [
                  "Video available at https://www.bilibili.com/video/BV1Hp4y1S7Au\n"
                ]
              },
              {
                "output_type": "display_data",
                "data": {
                  "text/plain": "<__main__.PlayVideo at 0x7b7c8806f5d0>",
                  "text/html": "\n        <iframe\n            width=\"854\"\n            height=\"480\"\n            src=\"https://player.bilibili.com/player.html?bvid=BV1Hp4y1S7Au&page=1?fs=1&autoplay=False\"\n            frameborder=\"0\"\n            allowfullscreen\n            \n        ></iframe>\n        "
                },
                "metadata": {}
              }
            ]
          }
        },
        "41bf574addd64e9b8b275500412c417b": {
          "model_module": "@jupyter-widgets/base",
          "model_name": "LayoutModel",
          "model_module_version": "1.2.0",
          "state": {
            "_model_module": "@jupyter-widgets/base",
            "_model_module_version": "1.2.0",
            "_model_name": "LayoutModel",
            "_view_count": null,
            "_view_module": "@jupyter-widgets/base",
            "_view_module_version": "1.2.0",
            "_view_name": "LayoutView",
            "align_content": null,
            "align_items": null,
            "align_self": null,
            "border": null,
            "bottom": null,
            "display": null,
            "flex": null,
            "flex_flow": null,
            "grid_area": null,
            "grid_auto_columns": null,
            "grid_auto_flow": null,
            "grid_auto_rows": null,
            "grid_column": null,
            "grid_gap": null,
            "grid_row": null,
            "grid_template_areas": null,
            "grid_template_columns": null,
            "grid_template_rows": null,
            "height": null,
            "justify_content": null,
            "justify_items": null,
            "left": null,
            "margin": null,
            "max_height": null,
            "max_width": null,
            "min_height": null,
            "min_width": null,
            "object_fit": null,
            "object_position": null,
            "order": null,
            "overflow": null,
            "overflow_x": null,
            "overflow_y": null,
            "padding": null,
            "right": null,
            "top": null,
            "visibility": null,
            "width": null
          }
        },
        "555c77af5af440d4aca5968346ef46fe": {
          "model_module": "@jupyter-widgets/base",
          "model_name": "LayoutModel",
          "model_module_version": "1.2.0",
          "state": {
            "_model_module": "@jupyter-widgets/base",
            "_model_module_version": "1.2.0",
            "_model_name": "LayoutModel",
            "_view_count": null,
            "_view_module": "@jupyter-widgets/base",
            "_view_module_version": "1.2.0",
            "_view_name": "LayoutView",
            "align_content": null,
            "align_items": null,
            "align_self": null,
            "border": null,
            "bottom": null,
            "display": null,
            "flex": null,
            "flex_flow": null,
            "grid_area": null,
            "grid_auto_columns": null,
            "grid_auto_flow": null,
            "grid_auto_rows": null,
            "grid_column": null,
            "grid_gap": null,
            "grid_row": null,
            "grid_template_areas": null,
            "grid_template_columns": null,
            "grid_template_rows": null,
            "height": null,
            "justify_content": null,
            "justify_items": null,
            "left": null,
            "margin": null,
            "max_height": null,
            "max_width": null,
            "min_height": null,
            "min_width": null,
            "object_fit": null,
            "object_position": null,
            "order": null,
            "overflow": null,
            "overflow_x": null,
            "overflow_y": null,
            "padding": null,
            "right": null,
            "top": null,
            "visibility": null,
            "width": null
          }
        },
        "0e8872271ee448ecb35fbadd1bc1532b": {
          "model_module": "@jupyter-widgets/base",
          "model_name": "LayoutModel",
          "model_module_version": "1.2.0",
          "state": {
            "_model_module": "@jupyter-widgets/base",
            "_model_module_version": "1.2.0",
            "_model_name": "LayoutModel",
            "_view_count": null,
            "_view_module": "@jupyter-widgets/base",
            "_view_module_version": "1.2.0",
            "_view_name": "LayoutView",
            "align_content": null,
            "align_items": null,
            "align_self": null,
            "border": null,
            "bottom": null,
            "display": null,
            "flex": null,
            "flex_flow": null,
            "grid_area": null,
            "grid_auto_columns": null,
            "grid_auto_flow": null,
            "grid_auto_rows": null,
            "grid_column": null,
            "grid_gap": null,
            "grid_row": null,
            "grid_template_areas": null,
            "grid_template_columns": null,
            "grid_template_rows": null,
            "height": null,
            "justify_content": null,
            "justify_items": null,
            "left": null,
            "margin": null,
            "max_height": null,
            "max_width": null,
            "min_height": null,
            "min_width": null,
            "object_fit": null,
            "object_position": null,
            "order": null,
            "overflow": null,
            "overflow_x": null,
            "overflow_y": null,
            "padding": null,
            "right": null,
            "top": null,
            "visibility": null,
            "width": null
          }
        },
        "c4d7ef5ead1a493da33d76b6014801ff": {
          "model_module": "@jupyter-widgets/controls",
          "model_name": "TabModel",
          "model_module_version": "1.5.0",
          "state": {
            "_dom_classes": [],
            "_model_module": "@jupyter-widgets/controls",
            "_model_module_version": "1.5.0",
            "_model_name": "TabModel",
            "_titles": {
              "0": "Youtube",
              "1": "Bilibili"
            },
            "_view_count": null,
            "_view_module": "@jupyter-widgets/controls",
            "_view_module_version": "1.5.0",
            "_view_name": "TabView",
            "box_style": "",
            "children": [
              "IPY_MODEL_b4083556ae1145ad996e7499616693b6",
              "IPY_MODEL_636b37d2c74d4b2386907ab684ba24f4"
            ],
            "layout": "IPY_MODEL_334fc639495547ff9a32b2a6ad6a8b69",
            "selected_index": 1
          }
        },
        "b4083556ae1145ad996e7499616693b6": {
          "model_module": "@jupyter-widgets/output",
          "model_name": "OutputModel",
          "model_module_version": "1.0.0",
          "state": {
            "_dom_classes": [],
            "_model_module": "@jupyter-widgets/output",
            "_model_module_version": "1.0.0",
            "_model_name": "OutputModel",
            "_view_count": null,
            "_view_module": "@jupyter-widgets/output",
            "_view_module_version": "1.0.0",
            "_view_name": "OutputView",
            "layout": "IPY_MODEL_e4b335d948004ac4b2f16c35b0c9bc01",
            "msg_id": "",
            "outputs": [
              {
                "output_type": "stream",
                "name": "stdout",
                "text": [
                  "Video available at https://youtube.com/watch?v=QGA5FCW7kkA\n"
                ]
              },
              {
                "output_type": "display_data",
                "data": {
                  "text/plain": "<IPython.lib.display.YouTubeVideo at 0x7b7c64949fd0>",
                  "text/html": "\n        <iframe\n            width=\"854\"\n            height=\"480\"\n            src=\"https://www.youtube.com/embed/QGA5FCW7kkA?fs=1&rel=0\"\n            frameborder=\"0\"\n            allowfullscreen\n            \n        ></iframe>\n        ",
                  "image/jpeg": "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\n"
                },
                "metadata": {}
              }
            ]
          }
        },
        "636b37d2c74d4b2386907ab684ba24f4": {
          "model_module": "@jupyter-widgets/output",
          "model_name": "OutputModel",
          "model_module_version": "1.0.0",
          "state": {
            "_dom_classes": [],
            "_model_module": "@jupyter-widgets/output",
            "_model_module_version": "1.0.0",
            "_model_name": "OutputModel",
            "_view_count": null,
            "_view_module": "@jupyter-widgets/output",
            "_view_module_version": "1.0.0",
            "_view_name": "OutputView",
            "layout": "IPY_MODEL_f9e90887b278407288a4fc3d3d7b7b6e",
            "msg_id": "",
            "outputs": [
              {
                "output_type": "stream",
                "name": "stdout",
                "text": [
                  "Video available at https://www.bilibili.com/video/BV1dt4y1Q7C5\n"
                ]
              },
              {
                "output_type": "display_data",
                "data": {
                  "text/plain": "<__main__.PlayVideo at 0x7b7c649fd790>",
                  "text/html": "\n        <iframe\n            width=\"854\"\n            height=\"480\"\n            src=\"https://player.bilibili.com/player.html?bvid=BV1dt4y1Q7C5&page=1?fs=1&autoplay=False\"\n            frameborder=\"0\"\n            allowfullscreen\n            \n        ></iframe>\n        "
                },
                "metadata": {}
              }
            ]
          }
        },
        "334fc639495547ff9a32b2a6ad6a8b69": {
          "model_module": "@jupyter-widgets/base",
          "model_name": "LayoutModel",
          "model_module_version": "1.2.0",
          "state": {
            "_model_module": "@jupyter-widgets/base",
            "_model_module_version": "1.2.0",
            "_model_name": "LayoutModel",
            "_view_count": null,
            "_view_module": "@jupyter-widgets/base",
            "_view_module_version": "1.2.0",
            "_view_name": "LayoutView",
            "align_content": null,
            "align_items": null,
            "align_self": null,
            "border": null,
            "bottom": null,
            "display": null,
            "flex": null,
            "flex_flow": null,
            "grid_area": null,
            "grid_auto_columns": null,
            "grid_auto_flow": null,
            "grid_auto_rows": null,
            "grid_column": null,
            "grid_gap": null,
            "grid_row": null,
            "grid_template_areas": null,
            "grid_template_columns": null,
            "grid_template_rows": null,
            "height": null,
            "justify_content": null,
            "justify_items": null,
            "left": null,
            "margin": null,
            "max_height": null,
            "max_width": null,
            "min_height": null,
            "min_width": null,
            "object_fit": null,
            "object_position": null,
            "order": null,
            "overflow": null,
            "overflow_x": null,
            "overflow_y": null,
            "padding": null,
            "right": null,
            "top": null,
            "visibility": null,
            "width": null
          }
        },
        "e4b335d948004ac4b2f16c35b0c9bc01": {
          "model_module": "@jupyter-widgets/base",
          "model_name": "LayoutModel",
          "model_module_version": "1.2.0",
          "state": {
            "_model_module": "@jupyter-widgets/base",
            "_model_module_version": "1.2.0",
            "_model_name": "LayoutModel",
            "_view_count": null,
            "_view_module": "@jupyter-widgets/base",
            "_view_module_version": "1.2.0",
            "_view_name": "LayoutView",
            "align_content": null,
            "align_items": null,
            "align_self": null,
            "border": null,
            "bottom": null,
            "display": null,
            "flex": null,
            "flex_flow": null,
            "grid_area": null,
            "grid_auto_columns": null,
            "grid_auto_flow": null,
            "grid_auto_rows": null,
            "grid_column": null,
            "grid_gap": null,
            "grid_row": null,
            "grid_template_areas": null,
            "grid_template_columns": null,
            "grid_template_rows": null,
            "height": null,
            "justify_content": null,
            "justify_items": null,
            "left": null,
            "margin": null,
            "max_height": null,
            "max_width": null,
            "min_height": null,
            "min_width": null,
            "object_fit": null,
            "object_position": null,
            "order": null,
            "overflow": null,
            "overflow_x": null,
            "overflow_y": null,
            "padding": null,
            "right": null,
            "top": null,
            "visibility": null,
            "width": null
          }
        },
        "f9e90887b278407288a4fc3d3d7b7b6e": {
          "model_module": "@jupyter-widgets/base",
          "model_name": "LayoutModel",
          "model_module_version": "1.2.0",
          "state": {
            "_model_module": "@jupyter-widgets/base",
            "_model_module_version": "1.2.0",
            "_model_name": "LayoutModel",
            "_view_count": null,
            "_view_module": "@jupyter-widgets/base",
            "_view_module_version": "1.2.0",
            "_view_name": "LayoutView",
            "align_content": null,
            "align_items": null,
            "align_self": null,
            "border": null,
            "bottom": null,
            "display": null,
            "flex": null,
            "flex_flow": null,
            "grid_area": null,
            "grid_auto_columns": null,
            "grid_auto_flow": null,
            "grid_auto_rows": null,
            "grid_column": null,
            "grid_gap": null,
            "grid_row": null,
            "grid_template_areas": null,
            "grid_template_columns": null,
            "grid_template_rows": null,
            "height": null,
            "justify_content": null,
            "justify_items": null,
            "left": null,
            "margin": null,
            "max_height": null,
            "max_width": null,
            "min_height": null,
            "min_width": null,
            "object_fit": null,
            "object_position": null,
            "order": null,
            "overflow": null,
            "overflow_x": null,
            "overflow_y": null,
            "padding": null,
            "right": null,
            "top": null,
            "visibility": null,
            "width": null
          }
        },
        "1baa151b63c143e49313ee1d3dff4dd9": {
          "model_module": "@jupyter-widgets/controls",
          "model_name": "TabModel",
          "model_module_version": "1.5.0",
          "state": {
            "_dom_classes": [],
            "_model_module": "@jupyter-widgets/controls",
            "_model_module_version": "1.5.0",
            "_model_name": "TabModel",
            "_titles": {
              "0": "Youtube",
              "1": "Bilibili"
            },
            "_view_count": null,
            "_view_module": "@jupyter-widgets/controls",
            "_view_module_version": "1.5.0",
            "_view_name": "TabView",
            "box_style": "",
            "children": [
              "IPY_MODEL_de1e96256e9140e3b87926ee755bb90d",
              "IPY_MODEL_bf57c816cda94774904f36394c277591"
            ],
            "layout": "IPY_MODEL_2ae0a3c8307d49bf84d4a104944f3d7a",
            "selected_index": 1
          }
        },
        "de1e96256e9140e3b87926ee755bb90d": {
          "model_module": "@jupyter-widgets/output",
          "model_name": "OutputModel",
          "model_module_version": "1.0.0",
          "state": {
            "_dom_classes": [],
            "_model_module": "@jupyter-widgets/output",
            "_model_module_version": "1.0.0",
            "_model_name": "OutputModel",
            "_view_count": null,
            "_view_module": "@jupyter-widgets/output",
            "_view_module_version": "1.0.0",
            "_view_name": "OutputView",
            "layout": "IPY_MODEL_70471b5df91144a09b0ee47a39afd090",
            "msg_id": "",
            "outputs": [
              {
                "output_type": "stream",
                "name": "stdout",
                "text": [
                  "Video available at https://youtube.com/watch?v=DHhM80MOTe8\n"
                ]
              },
              {
                "output_type": "display_data",
                "data": {
                  "text/plain": "<IPython.lib.display.YouTubeVideo at 0x7b7c5c649490>",
                  "text/html": "\n        <iframe\n            width=\"854\"\n            height=\"480\"\n            src=\"https://www.youtube.com/embed/DHhM80MOTe8?fs=1&rel=0\"\n            frameborder=\"0\"\n            allowfullscreen\n            \n        ></iframe>\n        ",
                  "image/jpeg": "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\n"
                },
                "metadata": {}
              }
            ]
          }
        },
        "bf57c816cda94774904f36394c277591": {
          "model_module": "@jupyter-widgets/output",
          "model_name": "OutputModel",
          "model_module_version": "1.0.0",
          "state": {
            "_dom_classes": [],
            "_model_module": "@jupyter-widgets/output",
            "_model_module_version": "1.0.0",
            "_model_name": "OutputModel",
            "_view_count": null,
            "_view_module": "@jupyter-widgets/output",
            "_view_module_version": "1.0.0",
            "_view_name": "OutputView",
            "layout": "IPY_MODEL_1f6cc5419c7349c9b3d0e12e0384558c",
            "msg_id": "",
            "outputs": [
              {
                "output_type": "stream",
                "name": "stdout",
                "text": [
                  "Video available at https://www.bilibili.com/video/BV1ov411B7Pm\n"
                ]
              },
              {
                "output_type": "display_data",
                "data": {
                  "text/plain": "<__main__.PlayVideo at 0x7b7c5c641090>",
                  "text/html": "\n        <iframe\n            width=\"854\"\n            height=\"480\"\n            src=\"https://player.bilibili.com/player.html?bvid=BV1ov411B7Pm&page=1?fs=1&autoplay=False\"\n            frameborder=\"0\"\n            allowfullscreen\n            \n        ></iframe>\n        "
                },
                "metadata": {}
              }
            ]
          }
        },
        "2ae0a3c8307d49bf84d4a104944f3d7a": {
          "model_module": "@jupyter-widgets/base",
          "model_name": "LayoutModel",
          "model_module_version": "1.2.0",
          "state": {
            "_model_module": "@jupyter-widgets/base",
            "_model_module_version": "1.2.0",
            "_model_name": "LayoutModel",
            "_view_count": null,
            "_view_module": "@jupyter-widgets/base",
            "_view_module_version": "1.2.0",
            "_view_name": "LayoutView",
            "align_content": null,
            "align_items": null,
            "align_self": null,
            "border": null,
            "bottom": null,
            "display": null,
            "flex": null,
            "flex_flow": null,
            "grid_area": null,
            "grid_auto_columns": null,
            "grid_auto_flow": null,
            "grid_auto_rows": null,
            "grid_column": null,
            "grid_gap": null,
            "grid_row": null,
            "grid_template_areas": null,
            "grid_template_columns": null,
            "grid_template_rows": null,
            "height": null,
            "justify_content": null,
            "justify_items": null,
            "left": null,
            "margin": null,
            "max_height": null,
            "max_width": null,
            "min_height": null,
            "min_width": null,
            "object_fit": null,
            "object_position": null,
            "order": null,
            "overflow": null,
            "overflow_x": null,
            "overflow_y": null,
            "padding": null,
            "right": null,
            "top": null,
            "visibility": null,
            "width": null
          }
        },
        "70471b5df91144a09b0ee47a39afd090": {
          "model_module": "@jupyter-widgets/base",
          "model_name": "LayoutModel",
          "model_module_version": "1.2.0",
          "state": {
            "_model_module": "@jupyter-widgets/base",
            "_model_module_version": "1.2.0",
            "_model_name": "LayoutModel",
            "_view_count": null,
            "_view_module": "@jupyter-widgets/base",
            "_view_module_version": "1.2.0",
            "_view_name": "LayoutView",
            "align_content": null,
            "align_items": null,
            "align_self": null,
            "border": null,
            "bottom": null,
            "display": null,
            "flex": null,
            "flex_flow": null,
            "grid_area": null,
            "grid_auto_columns": null,
            "grid_auto_flow": null,
            "grid_auto_rows": null,
            "grid_column": null,
            "grid_gap": null,
            "grid_row": null,
            "grid_template_areas": null,
            "grid_template_columns": null,
            "grid_template_rows": null,
            "height": null,
            "justify_content": null,
            "justify_items": null,
            "left": null,
            "margin": null,
            "max_height": null,
            "max_width": null,
            "min_height": null,
            "min_width": null,
            "object_fit": null,
            "object_position": null,
            "order": null,
            "overflow": null,
            "overflow_x": null,
            "overflow_y": null,
            "padding": null,
            "right": null,
            "top": null,
            "visibility": null,
            "width": null
          }
        },
        "1f6cc5419c7349c9b3d0e12e0384558c": {
          "model_module": "@jupyter-widgets/base",
          "model_name": "LayoutModel",
          "model_module_version": "1.2.0",
          "state": {
            "_model_module": "@jupyter-widgets/base",
            "_model_module_version": "1.2.0",
            "_model_name": "LayoutModel",
            "_view_count": null,
            "_view_module": "@jupyter-widgets/base",
            "_view_module_version": "1.2.0",
            "_view_name": "LayoutView",
            "align_content": null,
            "align_items": null,
            "align_self": null,
            "border": null,
            "bottom": null,
            "display": null,
            "flex": null,
            "flex_flow": null,
            "grid_area": null,
            "grid_auto_columns": null,
            "grid_auto_flow": null,
            "grid_auto_rows": null,
            "grid_column": null,
            "grid_gap": null,
            "grid_row": null,
            "grid_template_areas": null,
            "grid_template_columns": null,
            "grid_template_rows": null,
            "height": null,
            "justify_content": null,
            "justify_items": null,
            "left": null,
            "margin": null,
            "max_height": null,
            "max_width": null,
            "min_height": null,
            "min_width": null,
            "object_fit": null,
            "object_position": null,
            "order": null,
            "overflow": null,
            "overflow_x": null,
            "overflow_y": null,
            "padding": null,
            "right": null,
            "top": null,
            "visibility": null,
            "width": null
          }
        },
        "15c25c5012ee4f31b46e0c58934f748e": {
          "model_module": "@jupyter-widgets/controls",
          "model_name": "VBoxModel",
          "model_module_version": "1.5.0",
          "state": {
            "_dom_classes": [
              "widget-interact"
            ],
            "_model_module": "@jupyter-widgets/controls",
            "_model_module_version": "1.5.0",
            "_model_name": "VBoxModel",
            "_view_count": null,
            "_view_module": "@jupyter-widgets/controls",
            "_view_module_version": "1.5.0",
            "_view_name": "VBoxView",
            "box_style": "",
            "children": [
              "IPY_MODEL_d5c18c022d104109b7649be045c58b8d",
              "IPY_MODEL_fa9062eb49ce433fa93a28e2b35129c9",
              "IPY_MODEL_caca3b7270584305a8229fb622e91fd7",
              "IPY_MODEL_20c7d07fb91049cab0cdec8c495a7316",
              "IPY_MODEL_1e01f5f89a29438aa6e55addc5e988c2",
              "IPY_MODEL_4ba81af7280d424190c0157afa9c596d",
              "IPY_MODEL_7b97e0d30a2545cfbb9791900cabc2ac",
              "IPY_MODEL_4f96f26d3c484047851ecda2c1c1aa55"
            ],
            "layout": "IPY_MODEL_be330fc1073148129eaa2684eb7d3442"
          }
        },
        "d5c18c022d104109b7649be045c58b8d": {
          "model_module": "@jupyter-widgets/controls",
          "model_name": "FloatSliderModel",
          "model_module_version": "1.5.0",
          "state": {
            "_dom_classes": [],
            "_model_module": "@jupyter-widgets/controls",
            "_model_module_version": "1.5.0",
            "_model_name": "FloatSliderModel",
            "_view_count": null,
            "_view_module": "@jupyter-widgets/controls",
            "_view_module_version": "1.5.0",
            "_view_name": "FloatSliderView",
            "continuous_update": true,
            "description": "exp_scale",
            "description_tooltip": null,
            "disabled": false,
            "layout": "IPY_MODEL_db5ee431272b46fc94a19bd552f7eceb",
            "max": 20000,
            "min": 0,
            "orientation": "horizontal",
            "readout": true,
            "readout_format": ".2f",
            "step": 250,
            "style": "IPY_MODEL_f7807a6e95d14473abb9d1159b959587",
            "value": 500
          }
        },
        "fa9062eb49ce433fa93a28e2b35129c9": {
          "model_module": "@jupyter-widgets/controls",
          "model_name": "FloatSliderModel",
          "model_module_version": "1.5.0",
          "state": {
            "_dom_classes": [],
            "_model_module": "@jupyter-widgets/controls",
            "_model_module_version": "1.5.0",
            "_model_name": "FloatSliderModel",
            "_view_count": null,
            "_view_module": "@jupyter-widgets/controls",
            "_view_module_version": "1.5.0",
            "_view_name": "FloatSliderView",
            "continuous_update": true,
            "description": "exp_rate",
            "description_tooltip": null,
            "disabled": false,
            "layout": "IPY_MODEL_ee2d3509495248f6a93921723f0549b4",
            "max": 50,
            "min": -200,
            "orientation": "horizontal",
            "readout": true,
            "readout_format": ".2f",
            "step": 1,
            "style": "IPY_MODEL_7f7617cd3f6742deac5f385ecc11b9f3",
            "value": -42
          }
        },
        "caca3b7270584305a8229fb622e91fd7": {
          "model_module": "@jupyter-widgets/controls",
          "model_name": "FloatSliderModel",
          "model_module_version": "1.5.0",
          "state": {
            "_dom_classes": [],
            "_model_module": "@jupyter-widgets/controls",
            "_model_module_version": "1.5.0",
            "_model_name": "FloatSliderModel",
            "_view_count": null,
            "_view_module": "@jupyter-widgets/controls",
            "_view_module_version": "1.5.0",
            "_view_name": "FloatSliderView",
            "continuous_update": true,
            "description": "exp_x0",
            "description_tooltip": null,
            "disabled": false,
            "layout": "IPY_MODEL_0f1f883ed32e41d4b745cc08aa9bae27",
            "max": 0.5,
            "min": -0.5,
            "orientation": "horizontal",
            "readout": true,
            "readout_format": ".2f",
            "step": 0.005,
            "style": "IPY_MODEL_e8a23079d1394c829bd4d69aee87d420",
            "value": 0.1
          }
        },
        "20c7d07fb91049cab0cdec8c495a7316": {
          "model_module": "@jupyter-widgets/controls",
          "model_name": "FloatSliderModel",
          "model_module_version": "1.5.0",
          "state": {
            "_dom_classes": [],
            "_model_module": "@jupyter-widgets/controls",
            "_model_module_version": "1.5.0",
            "_model_name": "FloatSliderModel",
            "_view_count": null,
            "_view_module": "@jupyter-widgets/controls",
            "_view_module_version": "1.5.0",
            "_view_name": "FloatSliderView",
            "continuous_update": true,
            "description": "inv_scale",
            "description_tooltip": null,
            "disabled": false,
            "layout": "IPY_MODEL_1555f33593de469cb7b7d31b76e38f02",
            "max": 300,
            "min": 0,
            "orientation": "horizontal",
            "readout": true,
            "readout_format": ".2f",
            "step": 10,
            "style": "IPY_MODEL_9347aeb006b34fc4b6d0b28f76871b14",
            "value": 300
          }
        },
        "1e01f5f89a29438aa6e55addc5e988c2": {
          "model_module": "@jupyter-widgets/controls",
          "model_name": "FloatSliderModel",
          "model_module_version": "1.5.0",
          "state": {
            "_dom_classes": [],
            "_model_module": "@jupyter-widgets/controls",
            "_model_module_version": "1.5.0",
            "_model_name": "FloatSliderModel",
            "_view_count": null,
            "_view_module": "@jupyter-widgets/controls",
            "_view_module_version": "1.5.0",
            "_view_name": "FloatSliderView",
            "continuous_update": true,
            "description": "inv_x0",
            "description_tooltip": null,
            "disabled": false,
            "layout": "IPY_MODEL_bcc20b3cb84b4d18b5339eab60a31523",
            "max": 0.2,
            "min": -0.2,
            "orientation": "horizontal",
            "readout": true,
            "readout_format": ".2f",
            "step": 0.01,
            "style": "IPY_MODEL_c8486720e6e548539ab99965c11cbf75",
            "value": 0
          }
        },
        "4ba81af7280d424190c0157afa9c596d": {
          "model_module": "@jupyter-widgets/controls",
          "model_name": "FloatSliderModel",
          "model_module_version": "1.5.0",
          "state": {
            "_dom_classes": [],
            "_model_module": "@jupyter-widgets/controls",
            "_model_module_version": "1.5.0",
            "_model_name": "FloatSliderModel",
            "_view_count": null,
            "_view_module": "@jupyter-widgets/controls",
            "_view_module_version": "1.5.0",
            "_view_name": "FloatSliderView",
            "continuous_update": true,
            "description": "lin_slope",
            "description_tooltip": null,
            "disabled": false,
            "layout": "IPY_MODEL_6fe07e123a934bf89dbf9353afb3dbbe",
            "max": 100000,
            "min": -600000,
            "orientation": "horizontal",
            "readout": true,
            "readout_format": ".2f",
            "step": 10000,
            "style": "IPY_MODEL_18668d9f803747a79687606abb92d2d1",
            "value": -100000
          }
        },
        "7b97e0d30a2545cfbb9791900cabc2ac": {
          "model_module": "@jupyter-widgets/controls",
          "model_name": "FloatSliderModel",
          "model_module_version": "1.5.0",
          "state": {
            "_dom_classes": [],
            "_model_module": "@jupyter-widgets/controls",
            "_model_module_version": "1.5.0",
            "_model_name": "FloatSliderModel",
            "_view_count": null,
            "_view_module": "@jupyter-widgets/controls",
            "_view_module_version": "1.5.0",
            "_view_name": "FloatSliderView",
            "continuous_update": true,
            "description": "lin_y0",
            "description_tooltip": null,
            "disabled": false,
            "layout": "IPY_MODEL_29478ac0835f442b916b3885a8a23ea9",
            "max": 40000,
            "min": 0,
            "orientation": "horizontal",
            "readout": true,
            "readout_format": ".2f",
            "step": 1000,
            "style": "IPY_MODEL_e3c82ff7250642f2ba6bf26adf5e8cd9",
            "value": 10000
          }
        },
        "4f96f26d3c484047851ecda2c1c1aa55": {
          "model_module": "@jupyter-widgets/output",
          "model_name": "OutputModel",
          "model_module_version": "1.0.0",
          "state": {
            "_dom_classes": [],
            "_model_module": "@jupyter-widgets/output",
            "_model_module_version": "1.0.0",
            "_model_name": "OutputModel",
            "_view_count": null,
            "_view_module": "@jupyter-widgets/output",
            "_view_module_version": "1.0.0",
            "_view_name": "OutputView",
            "layout": "IPY_MODEL_7f7767f937404a9ebbf1c0188c3a4bee",
            "msg_id": "",
            "outputs": [
              {
                "output_type": "display_data",
                "data": {
                  "text/plain": "<Figure size 800x600 with 1 Axes>",
                  "image/png": "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\n"
                },
                "metadata": {
                  "image/png": {
                    "width": 775,
                    "height": 575
                  }
                }
              }
            ]
          }
        },
        "be330fc1073148129eaa2684eb7d3442": {
          "model_module": "@jupyter-widgets/base",
          "model_name": "LayoutModel",
          "model_module_version": "1.2.0",
          "state": {
            "_model_module": "@jupyter-widgets/base",
            "_model_module_version": "1.2.0",
            "_model_name": "LayoutModel",
            "_view_count": null,
            "_view_module": "@jupyter-widgets/base",
            "_view_module_version": "1.2.0",
            "_view_name": "LayoutView",
            "align_content": null,
            "align_items": null,
            "align_self": null,
            "border": null,
            "bottom": null,
            "display": null,
            "flex": null,
            "flex_flow": null,
            "grid_area": null,
            "grid_auto_columns": null,
            "grid_auto_flow": null,
            "grid_auto_rows": null,
            "grid_column": null,
            "grid_gap": null,
            "grid_row": null,
            "grid_template_areas": null,
            "grid_template_columns": null,
            "grid_template_rows": null,
            "height": null,
            "justify_content": null,
            "justify_items": null,
            "left": null,
            "margin": null,
            "max_height": null,
            "max_width": null,
            "min_height": null,
            "min_width": null,
            "object_fit": null,
            "object_position": null,
            "order": null,
            "overflow": null,
            "overflow_x": null,
            "overflow_y": null,
            "padding": null,
            "right": null,
            "top": null,
            "visibility": null,
            "width": null
          }
        },
        "db5ee431272b46fc94a19bd552f7eceb": {
          "model_module": "@jupyter-widgets/base",
          "model_name": "LayoutModel",
          "model_module_version": "1.2.0",
          "state": {
            "_model_module": "@jupyter-widgets/base",
            "_model_module_version": "1.2.0",
            "_model_name": "LayoutModel",
            "_view_count": null,
            "_view_module": "@jupyter-widgets/base",
            "_view_module_version": "1.2.0",
            "_view_name": "LayoutView",
            "align_content": null,
            "align_items": null,
            "align_self": null,
            "border": null,
            "bottom": null,
            "display": null,
            "flex": null,
            "flex_flow": null,
            "grid_area": null,
            "grid_auto_columns": null,
            "grid_auto_flow": null,
            "grid_auto_rows": null,
            "grid_column": null,
            "grid_gap": null,
            "grid_row": null,
            "grid_template_areas": null,
            "grid_template_columns": null,
            "grid_template_rows": null,
            "height": null,
            "justify_content": null,
            "justify_items": null,
            "left": null,
            "margin": null,
            "max_height": null,
            "max_width": null,
            "min_height": null,
            "min_width": null,
            "object_fit": null,
            "object_position": null,
            "order": null,
            "overflow": null,
            "overflow_x": null,
            "overflow_y": null,
            "padding": null,
            "right": null,
            "top": null,
            "visibility": null,
            "width": null
          }
        },
        "f7807a6e95d14473abb9d1159b959587": {
          "model_module": "@jupyter-widgets/controls",
          "model_name": "SliderStyleModel",
          "model_module_version": "1.5.0",
          "state": {
            "_model_module": "@jupyter-widgets/controls",
            "_model_module_version": "1.5.0",
            "_model_name": "SliderStyleModel",
            "_view_count": null,
            "_view_module": "@jupyter-widgets/base",
            "_view_module_version": "1.2.0",
            "_view_name": "StyleView",
            "description_width": "",
            "handle_color": null
          }
        },
        "ee2d3509495248f6a93921723f0549b4": {
          "model_module": "@jupyter-widgets/base",
          "model_name": "LayoutModel",
          "model_module_version": "1.2.0",
          "state": {
            "_model_module": "@jupyter-widgets/base",
            "_model_module_version": "1.2.0",
            "_model_name": "LayoutModel",
            "_view_count": null,
            "_view_module": "@jupyter-widgets/base",
            "_view_module_version": "1.2.0",
            "_view_name": "LayoutView",
            "align_content": null,
            "align_items": null,
            "align_self": null,
            "border": null,
            "bottom": null,
            "display": null,
            "flex": null,
            "flex_flow": null,
            "grid_area": null,
            "grid_auto_columns": null,
            "grid_auto_flow": null,
            "grid_auto_rows": null,
            "grid_column": null,
            "grid_gap": null,
            "grid_row": null,
            "grid_template_areas": null,
            "grid_template_columns": null,
            "grid_template_rows": null,
            "height": null,
            "justify_content": null,
            "justify_items": null,
            "left": null,
            "margin": null,
            "max_height": null,
            "max_width": null,
            "min_height": null,
            "min_width": null,
            "object_fit": null,
            "object_position": null,
            "order": null,
            "overflow": null,
            "overflow_x": null,
            "overflow_y": null,
            "padding": null,
            "right": null,
            "top": null,
            "visibility": null,
            "width": null
          }
        },
        "7f7617cd3f6742deac5f385ecc11b9f3": {
          "model_module": "@jupyter-widgets/controls",
          "model_name": "SliderStyleModel",
          "model_module_version": "1.5.0",
          "state": {
            "_model_module": "@jupyter-widgets/controls",
            "_model_module_version": "1.5.0",
            "_model_name": "SliderStyleModel",
            "_view_count": null,
            "_view_module": "@jupyter-widgets/base",
            "_view_module_version": "1.2.0",
            "_view_name": "StyleView",
            "description_width": "",
            "handle_color": null
          }
        },
        "0f1f883ed32e41d4b745cc08aa9bae27": {
          "model_module": "@jupyter-widgets/base",
          "model_name": "LayoutModel",
          "model_module_version": "1.2.0",
          "state": {
            "_model_module": "@jupyter-widgets/base",
            "_model_module_version": "1.2.0",
            "_model_name": "LayoutModel",
            "_view_count": null,
            "_view_module": "@jupyter-widgets/base",
            "_view_module_version": "1.2.0",
            "_view_name": "LayoutView",
            "align_content": null,
            "align_items": null,
            "align_self": null,
            "border": null,
            "bottom": null,
            "display": null,
            "flex": null,
            "flex_flow": null,
            "grid_area": null,
            "grid_auto_columns": null,
            "grid_auto_flow": null,
            "grid_auto_rows": null,
            "grid_column": null,
            "grid_gap": null,
            "grid_row": null,
            "grid_template_areas": null,
            "grid_template_columns": null,
            "grid_template_rows": null,
            "height": null,
            "justify_content": null,
            "justify_items": null,
            "left": null,
            "margin": null,
            "max_height": null,
            "max_width": null,
            "min_height": null,
            "min_width": null,
            "object_fit": null,
            "object_position": null,
            "order": null,
            "overflow": null,
            "overflow_x": null,
            "overflow_y": null,
            "padding": null,
            "right": null,
            "top": null,
            "visibility": null,
            "width": null
          }
        },
        "e8a23079d1394c829bd4d69aee87d420": {
          "model_module": "@jupyter-widgets/controls",
          "model_name": "SliderStyleModel",
          "model_module_version": "1.5.0",
          "state": {
            "_model_module": "@jupyter-widgets/controls",
            "_model_module_version": "1.5.0",
            "_model_name": "SliderStyleModel",
            "_view_count": null,
            "_view_module": "@jupyter-widgets/base",
            "_view_module_version": "1.2.0",
            "_view_name": "StyleView",
            "description_width": "",
            "handle_color": null
          }
        },
        "1555f33593de469cb7b7d31b76e38f02": {
          "model_module": "@jupyter-widgets/base",
          "model_name": "LayoutModel",
          "model_module_version": "1.2.0",
          "state": {
            "_model_module": "@jupyter-widgets/base",
            "_model_module_version": "1.2.0",
            "_model_name": "LayoutModel",
            "_view_count": null,
            "_view_module": "@jupyter-widgets/base",
            "_view_module_version": "1.2.0",
            "_view_name": "LayoutView",
            "align_content": null,
            "align_items": null,
            "align_self": null,
            "border": null,
            "bottom": null,
            "display": null,
            "flex": null,
            "flex_flow": null,
            "grid_area": null,
            "grid_auto_columns": null,
            "grid_auto_flow": null,
            "grid_auto_rows": null,
            "grid_column": null,
            "grid_gap": null,
            "grid_row": null,
            "grid_template_areas": null,
            "grid_template_columns": null,
            "grid_template_rows": null,
            "height": null,
            "justify_content": null,
            "justify_items": null,
            "left": null,
            "margin": null,
            "max_height": null,
            "max_width": null,
            "min_height": null,
            "min_width": null,
            "object_fit": null,
            "object_position": null,
            "order": null,
            "overflow": null,
            "overflow_x": null,
            "overflow_y": null,
            "padding": null,
            "right": null,
            "top": null,
            "visibility": null,
            "width": null
          }
        },
        "9347aeb006b34fc4b6d0b28f76871b14": {
          "model_module": "@jupyter-widgets/controls",
          "model_name": "SliderStyleModel",
          "model_module_version": "1.5.0",
          "state": {
            "_model_module": "@jupyter-widgets/controls",
            "_model_module_version": "1.5.0",
            "_model_name": "SliderStyleModel",
            "_view_count": null,
            "_view_module": "@jupyter-widgets/base",
            "_view_module_version": "1.2.0",
            "_view_name": "StyleView",
            "description_width": "",
            "handle_color": null
          }
        },
        "bcc20b3cb84b4d18b5339eab60a31523": {
          "model_module": "@jupyter-widgets/base",
          "model_name": "LayoutModel",
          "model_module_version": "1.2.0",
          "state": {
            "_model_module": "@jupyter-widgets/base",
            "_model_module_version": "1.2.0",
            "_model_name": "LayoutModel",
            "_view_count": null,
            "_view_module": "@jupyter-widgets/base",
            "_view_module_version": "1.2.0",
            "_view_name": "LayoutView",
            "align_content": null,
            "align_items": null,
            "align_self": null,
            "border": null,
            "bottom": null,
            "display": null,
            "flex": null,
            "flex_flow": null,
            "grid_area": null,
            "grid_auto_columns": null,
            "grid_auto_flow": null,
            "grid_auto_rows": null,
            "grid_column": null,
            "grid_gap": null,
            "grid_row": null,
            "grid_template_areas": null,
            "grid_template_columns": null,
            "grid_template_rows": null,
            "height": null,
            "justify_content": null,
            "justify_items": null,
            "left": null,
            "margin": null,
            "max_height": null,
            "max_width": null,
            "min_height": null,
            "min_width": null,
            "object_fit": null,
            "object_position": null,
            "order": null,
            "overflow": null,
            "overflow_x": null,
            "overflow_y": null,
            "padding": null,
            "right": null,
            "top": null,
            "visibility": null,
            "width": null
          }
        },
        "c8486720e6e548539ab99965c11cbf75": {
          "model_module": "@jupyter-widgets/controls",
          "model_name": "SliderStyleModel",
          "model_module_version": "1.5.0",
          "state": {
            "_model_module": "@jupyter-widgets/controls",
            "_model_module_version": "1.5.0",
            "_model_name": "SliderStyleModel",
            "_view_count": null,
            "_view_module": "@jupyter-widgets/base",
            "_view_module_version": "1.2.0",
            "_view_name": "StyleView",
            "description_width": "",
            "handle_color": null
          }
        },
        "6fe07e123a934bf89dbf9353afb3dbbe": {
          "model_module": "@jupyter-widgets/base",
          "model_name": "LayoutModel",
          "model_module_version": "1.2.0",
          "state": {
            "_model_module": "@jupyter-widgets/base",
            "_model_module_version": "1.2.0",
            "_model_name": "LayoutModel",
            "_view_count": null,
            "_view_module": "@jupyter-widgets/base",
            "_view_module_version": "1.2.0",
            "_view_name": "LayoutView",
            "align_content": null,
            "align_items": null,
            "align_self": null,
            "border": null,
            "bottom": null,
            "display": null,
            "flex": null,
            "flex_flow": null,
            "grid_area": null,
            "grid_auto_columns": null,
            "grid_auto_flow": null,
            "grid_auto_rows": null,
            "grid_column": null,
            "grid_gap": null,
            "grid_row": null,
            "grid_template_areas": null,
            "grid_template_columns": null,
            "grid_template_rows": null,
            "height": null,
            "justify_content": null,
            "justify_items": null,
            "left": null,
            "margin": null,
            "max_height": null,
            "max_width": null,
            "min_height": null,
            "min_width": null,
            "object_fit": null,
            "object_position": null,
            "order": null,
            "overflow": null,
            "overflow_x": null,
            "overflow_y": null,
            "padding": null,
            "right": null,
            "top": null,
            "visibility": null,
            "width": null
          }
        },
        "18668d9f803747a79687606abb92d2d1": {
          "model_module": "@jupyter-widgets/controls",
          "model_name": "SliderStyleModel",
          "model_module_version": "1.5.0",
          "state": {
            "_model_module": "@jupyter-widgets/controls",
            "_model_module_version": "1.5.0",
            "_model_name": "SliderStyleModel",
            "_view_count": null,
            "_view_module": "@jupyter-widgets/base",
            "_view_module_version": "1.2.0",
            "_view_name": "StyleView",
            "description_width": "",
            "handle_color": null
          }
        },
        "29478ac0835f442b916b3885a8a23ea9": {
          "model_module": "@jupyter-widgets/base",
          "model_name": "LayoutModel",
          "model_module_version": "1.2.0",
          "state": {
            "_model_module": "@jupyter-widgets/base",
            "_model_module_version": "1.2.0",
            "_model_name": "LayoutModel",
            "_view_count": null,
            "_view_module": "@jupyter-widgets/base",
            "_view_module_version": "1.2.0",
            "_view_name": "LayoutView",
            "align_content": null,
            "align_items": null,
            "align_self": null,
            "border": null,
            "bottom": null,
            "display": null,
            "flex": null,
            "flex_flow": null,
            "grid_area": null,
            "grid_auto_columns": null,
            "grid_auto_flow": null,
            "grid_auto_rows": null,
            "grid_column": null,
            "grid_gap": null,
            "grid_row": null,
            "grid_template_areas": null,
            "grid_template_columns": null,
            "grid_template_rows": null,
            "height": null,
            "justify_content": null,
            "justify_items": null,
            "left": null,
            "margin": null,
            "max_height": null,
            "max_width": null,
            "min_height": null,
            "min_width": null,
            "object_fit": null,
            "object_position": null,
            "order": null,
            "overflow": null,
            "overflow_x": null,
            "overflow_y": null,
            "padding": null,
            "right": null,
            "top": null,
            "visibility": null,
            "width": null
          }
        },
        "e3c82ff7250642f2ba6bf26adf5e8cd9": {
          "model_module": "@jupyter-widgets/controls",
          "model_name": "SliderStyleModel",
          "model_module_version": "1.5.0",
          "state": {
            "_model_module": "@jupyter-widgets/controls",
            "_model_module_version": "1.5.0",
            "_model_name": "SliderStyleModel",
            "_view_count": null,
            "_view_module": "@jupyter-widgets/base",
            "_view_module_version": "1.2.0",
            "_view_name": "StyleView",
            "description_width": "",
            "handle_color": null
          }
        },
        "7f7767f937404a9ebbf1c0188c3a4bee": {
          "model_module": "@jupyter-widgets/base",
          "model_name": "LayoutModel",
          "model_module_version": "1.2.0",
          "state": {
            "_model_module": "@jupyter-widgets/base",
            "_model_module_version": "1.2.0",
            "_model_name": "LayoutModel",
            "_view_count": null,
            "_view_module": "@jupyter-widgets/base",
            "_view_module_version": "1.2.0",
            "_view_name": "LayoutView",
            "align_content": null,
            "align_items": null,
            "align_self": null,
            "border": null,
            "bottom": null,
            "display": null,
            "flex": null,
            "flex_flow": null,
            "grid_area": null,
            "grid_auto_columns": null,
            "grid_auto_flow": null,
            "grid_auto_rows": null,
            "grid_column": null,
            "grid_gap": null,
            "grid_row": null,
            "grid_template_areas": null,
            "grid_template_columns": null,
            "grid_template_rows": null,
            "height": null,
            "justify_content": null,
            "justify_items": null,
            "left": null,
            "margin": null,
            "max_height": null,
            "max_width": null,
            "min_height": null,
            "min_width": null,
            "object_fit": null,
            "object_position": null,
            "order": null,
            "overflow": null,
            "overflow_x": null,
            "overflow_y": null,
            "padding": null,
            "right": null,
            "top": null,
            "visibility": null,
            "width": null
          }
        },
        "dfd334ccf44149f0981371059aa1dc87": {
          "model_module": "@jupyter-widgets/controls",
          "model_name": "TabModel",
          "model_module_version": "1.5.0",
          "state": {
            "_dom_classes": [],
            "_model_module": "@jupyter-widgets/controls",
            "_model_module_version": "1.5.0",
            "_model_name": "TabModel",
            "_titles": {
              "0": "Youtube",
              "1": "Bilibili"
            },
            "_view_count": null,
            "_view_module": "@jupyter-widgets/controls",
            "_view_module_version": "1.5.0",
            "_view_name": "TabView",
            "box_style": "",
            "children": [
              "IPY_MODEL_b9cf5867d2184e3ab2d66a7ed31f592a",
              "IPY_MODEL_8f56d5ef878f4b02b73af90adf5cbf1d"
            ],
            "layout": "IPY_MODEL_44fecf90b1c247e583af1cd681919f42",
            "selected_index": 0
          }
        },
        "b9cf5867d2184e3ab2d66a7ed31f592a": {
          "model_module": "@jupyter-widgets/output",
          "model_name": "OutputModel",
          "model_module_version": "1.0.0",
          "state": {
            "_dom_classes": [],
            "_model_module": "@jupyter-widgets/output",
            "_model_module_version": "1.0.0",
            "_model_name": "OutputModel",
            "_view_count": null,
            "_view_module": "@jupyter-widgets/output",
            "_view_module_version": "1.0.0",
            "_view_name": "OutputView",
            "layout": "IPY_MODEL_27739611248a4cb58f53de98c76c350e",
            "msg_id": "",
            "outputs": [
              {
                "output_type": "stream",
                "name": "stdout",
                "text": [
                  "Video available at https://youtube.com/watch?v=uW2HDk_4-wk\n"
                ]
              },
              {
                "output_type": "display_data",
                "data": {
                  "text/plain": "<IPython.lib.display.YouTubeVideo at 0x7b7c5c2a4c90>",
                  "text/html": "\n        <iframe\n            width=\"854\"\n            height=\"480\"\n            src=\"https://www.youtube.com/embed/uW2HDk_4-wk?fs=1&rel=0\"\n            frameborder=\"0\"\n            allowfullscreen\n            \n        ></iframe>\n        ",
                  "image/jpeg": "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\n"
                },
                "metadata": {}
              }
            ]
          }
        },
        "8f56d5ef878f4b02b73af90adf5cbf1d": {
          "model_module": "@jupyter-widgets/output",
          "model_name": "OutputModel",
          "model_module_version": "1.0.0",
          "state": {
            "_dom_classes": [],
            "_model_module": "@jupyter-widgets/output",
            "_model_module_version": "1.0.0",
            "_model_name": "OutputModel",
            "_view_count": null,
            "_view_module": "@jupyter-widgets/output",
            "_view_module_version": "1.0.0",
            "_view_name": "OutputView",
            "layout": "IPY_MODEL_419df8ea08d745c289170dc17ee1b8f8",
            "msg_id": "",
            "outputs": [
              {
                "output_type": "stream",
                "name": "stdout",
                "text": [
                  "Video available at https://www.bilibili.com/video/BV1w54y1S7Eb\n"
                ]
              },
              {
                "output_type": "display_data",
                "data": {
                  "text/plain": "<__main__.PlayVideo at 0x7b7c5c45fcd0>",
                  "text/html": "\n        <iframe\n            width=\"854\"\n            height=\"480\"\n            src=\"https://player.bilibili.com/player.html?bvid=BV1w54y1S7Eb&page=1?fs=1&autoplay=False\"\n            frameborder=\"0\"\n            allowfullscreen\n            \n        ></iframe>\n        "
                },
                "metadata": {}
              }
            ]
          }
        },
        "44fecf90b1c247e583af1cd681919f42": {
          "model_module": "@jupyter-widgets/base",
          "model_name": "LayoutModel",
          "model_module_version": "1.2.0",
          "state": {
            "_model_module": "@jupyter-widgets/base",
            "_model_module_version": "1.2.0",
            "_model_name": "LayoutModel",
            "_view_count": null,
            "_view_module": "@jupyter-widgets/base",
            "_view_module_version": "1.2.0",
            "_view_name": "LayoutView",
            "align_content": null,
            "align_items": null,
            "align_self": null,
            "border": null,
            "bottom": null,
            "display": null,
            "flex": null,
            "flex_flow": null,
            "grid_area": null,
            "grid_auto_columns": null,
            "grid_auto_flow": null,
            "grid_auto_rows": null,
            "grid_column": null,
            "grid_gap": null,
            "grid_row": null,
            "grid_template_areas": null,
            "grid_template_columns": null,
            "grid_template_rows": null,
            "height": null,
            "justify_content": null,
            "justify_items": null,
            "left": null,
            "margin": null,
            "max_height": null,
            "max_width": null,
            "min_height": null,
            "min_width": null,
            "object_fit": null,
            "object_position": null,
            "order": null,
            "overflow": null,
            "overflow_x": null,
            "overflow_y": null,
            "padding": null,
            "right": null,
            "top": null,
            "visibility": null,
            "width": null
          }
        },
        "27739611248a4cb58f53de98c76c350e": {
          "model_module": "@jupyter-widgets/base",
          "model_name": "LayoutModel",
          "model_module_version": "1.2.0",
          "state": {
            "_model_module": "@jupyter-widgets/base",
            "_model_module_version": "1.2.0",
            "_model_name": "LayoutModel",
            "_view_count": null,
            "_view_module": "@jupyter-widgets/base",
            "_view_module_version": "1.2.0",
            "_view_name": "LayoutView",
            "align_content": null,
            "align_items": null,
            "align_self": null,
            "border": null,
            "bottom": null,
            "display": null,
            "flex": null,
            "flex_flow": null,
            "grid_area": null,
            "grid_auto_columns": null,
            "grid_auto_flow": null,
            "grid_auto_rows": null,
            "grid_column": null,
            "grid_gap": null,
            "grid_row": null,
            "grid_template_areas": null,
            "grid_template_columns": null,
            "grid_template_rows": null,
            "height": null,
            "justify_content": null,
            "justify_items": null,
            "left": null,
            "margin": null,
            "max_height": null,
            "max_width": null,
            "min_height": null,
            "min_width": null,
            "object_fit": null,
            "object_position": null,
            "order": null,
            "overflow": null,
            "overflow_x": null,
            "overflow_y": null,
            "padding": null,
            "right": null,
            "top": null,
            "visibility": null,
            "width": null
          }
        },
        "419df8ea08d745c289170dc17ee1b8f8": {
          "model_module": "@jupyter-widgets/base",
          "model_name": "LayoutModel",
          "model_module_version": "1.2.0",
          "state": {
            "_model_module": "@jupyter-widgets/base",
            "_model_module_version": "1.2.0",
            "_model_name": "LayoutModel",
            "_view_count": null,
            "_view_module": "@jupyter-widgets/base",
            "_view_module_version": "1.2.0",
            "_view_name": "LayoutView",
            "align_content": null,
            "align_items": null,
            "align_self": null,
            "border": null,
            "bottom": null,
            "display": null,
            "flex": null,
            "flex_flow": null,
            "grid_area": null,
            "grid_auto_columns": null,
            "grid_auto_flow": null,
            "grid_auto_rows": null,
            "grid_column": null,
            "grid_gap": null,
            "grid_row": null,
            "grid_template_areas": null,
            "grid_template_columns": null,
            "grid_template_rows": null,
            "height": null,
            "justify_content": null,
            "justify_items": null,
            "left": null,
            "margin": null,
            "max_height": null,
            "max_width": null,
            "min_height": null,
            "min_width": null,
            "object_fit": null,
            "object_position": null,
            "order": null,
            "overflow": null,
            "overflow_x": null,
            "overflow_y": null,
            "padding": null,
            "right": null,
            "top": null,
            "visibility": null,
            "width": null
          }
        }
      }
    }
  },
  "nbformat": 4,
  "nbformat_minor": 0
}